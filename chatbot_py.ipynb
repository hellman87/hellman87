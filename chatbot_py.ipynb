{
  "cells": [
    {
      "cell_type": "markdown",
      "metadata": {
        "id": "view-in-github",
        "colab_type": "text"
      },
      "source": [
        "<a href=\"https://colab.research.google.com/github/hellman87/hellman87/blob/main/chatbot_py.ipynb\" target=\"_parent\"><img src=\"https://colab.research.google.com/assets/colab-badge.svg\" alt=\"Open In Colab\"/></a>"
      ]
    },
    {
      "cell_type": "code",
      "execution_count": 1,
      "metadata": {
        "id": "dQ0K5FHja6UH",
        "collapsed": true,
        "colab": {
          "base_uri": "https://localhost:8080/"
        },
        "outputId": "cd99ec0d-0326-4378-df15-e337834856c3"
      },
      "outputs": [
        {
          "output_type": "stream",
          "name": "stdout",
          "text": [
            "\u001b[?25l   \u001b[90m━━━━━━━━━━━━━━━━━━━━━━━━━━━━━━━━━━━━━━━━\u001b[0m \u001b[32m0.0/1.2 MB\u001b[0m \u001b[31m?\u001b[0m eta \u001b[36m-:--:--\u001b[0m\r\u001b[2K   \u001b[91m━━━━━━━━━━━━━━━━━━━━━━━━━━━━━━━━━━━━━━━\u001b[0m\u001b[91m╸\u001b[0m \u001b[32m1.2/1.2 MB\u001b[0m \u001b[31m56.8 MB/s\u001b[0m eta \u001b[36m0:00:01\u001b[0m\r\u001b[2K   \u001b[90m━━━━━━━━━━━━━━━━━━━━━━━━━━━━━━━━━━━━━━━━\u001b[0m \u001b[32m1.2/1.2 MB\u001b[0m \u001b[31m28.7 MB/s\u001b[0m eta \u001b[36m0:00:00\u001b[0m\n",
            "\u001b[?25h"
          ]
        }
      ],
      "source": [
        "!pip install -q tiktoken"
      ]
    },
    {
      "cell_type": "code",
      "source": [
        "!pip install langchain"
      ],
      "metadata": {
        "collapsed": true,
        "id": "bvpS11k8WLu8",
        "colab": {
          "base_uri": "https://localhost:8080/"
        },
        "outputId": "99655606-a648-4e7a-8e7b-ff9e2f99dab7"
      },
      "execution_count": 2,
      "outputs": [
        {
          "output_type": "stream",
          "name": "stdout",
          "text": [
            "Requirement already satisfied: langchain in /usr/local/lib/python3.11/dist-packages (0.3.19)\n",
            "Requirement already satisfied: langchain-core<1.0.0,>=0.3.35 in /usr/local/lib/python3.11/dist-packages (from langchain) (0.3.40)\n",
            "Requirement already satisfied: langchain-text-splitters<1.0.0,>=0.3.6 in /usr/local/lib/python3.11/dist-packages (from langchain) (0.3.6)\n",
            "Requirement already satisfied: langsmith<0.4,>=0.1.17 in /usr/local/lib/python3.11/dist-packages (from langchain) (0.3.11)\n",
            "Requirement already satisfied: pydantic<3.0.0,>=2.7.4 in /usr/local/lib/python3.11/dist-packages (from langchain) (2.10.6)\n",
            "Requirement already satisfied: SQLAlchemy<3,>=1.4 in /usr/local/lib/python3.11/dist-packages (from langchain) (2.0.38)\n",
            "Requirement already satisfied: requests<3,>=2 in /usr/local/lib/python3.11/dist-packages (from langchain) (2.32.3)\n",
            "Requirement already satisfied: PyYAML>=5.3 in /usr/local/lib/python3.11/dist-packages (from langchain) (6.0.2)\n",
            "Requirement already satisfied: aiohttp<4.0.0,>=3.8.3 in /usr/local/lib/python3.11/dist-packages (from langchain) (3.11.13)\n",
            "Requirement already satisfied: tenacity!=8.4.0,<10,>=8.1.0 in /usr/local/lib/python3.11/dist-packages (from langchain) (9.0.0)\n",
            "Requirement already satisfied: numpy<2,>=1.26.4 in /usr/local/lib/python3.11/dist-packages (from langchain) (1.26.4)\n",
            "Requirement already satisfied: aiohappyeyeballs>=2.3.0 in /usr/local/lib/python3.11/dist-packages (from aiohttp<4.0.0,>=3.8.3->langchain) (2.4.6)\n",
            "Requirement already satisfied: aiosignal>=1.1.2 in /usr/local/lib/python3.11/dist-packages (from aiohttp<4.0.0,>=3.8.3->langchain) (1.3.2)\n",
            "Requirement already satisfied: attrs>=17.3.0 in /usr/local/lib/python3.11/dist-packages (from aiohttp<4.0.0,>=3.8.3->langchain) (25.1.0)\n",
            "Requirement already satisfied: frozenlist>=1.1.1 in /usr/local/lib/python3.11/dist-packages (from aiohttp<4.0.0,>=3.8.3->langchain) (1.5.0)\n",
            "Requirement already satisfied: multidict<7.0,>=4.5 in /usr/local/lib/python3.11/dist-packages (from aiohttp<4.0.0,>=3.8.3->langchain) (6.1.0)\n",
            "Requirement already satisfied: propcache>=0.2.0 in /usr/local/lib/python3.11/dist-packages (from aiohttp<4.0.0,>=3.8.3->langchain) (0.3.0)\n",
            "Requirement already satisfied: yarl<2.0,>=1.17.0 in /usr/local/lib/python3.11/dist-packages (from aiohttp<4.0.0,>=3.8.3->langchain) (1.18.3)\n",
            "Requirement already satisfied: jsonpatch<2.0,>=1.33 in /usr/local/lib/python3.11/dist-packages (from langchain-core<1.0.0,>=0.3.35->langchain) (1.33)\n",
            "Requirement already satisfied: packaging<25,>=23.2 in /usr/local/lib/python3.11/dist-packages (from langchain-core<1.0.0,>=0.3.35->langchain) (24.2)\n",
            "Requirement already satisfied: typing-extensions>=4.7 in /usr/local/lib/python3.11/dist-packages (from langchain-core<1.0.0,>=0.3.35->langchain) (4.12.2)\n",
            "Requirement already satisfied: httpx<1,>=0.23.0 in /usr/local/lib/python3.11/dist-packages (from langsmith<0.4,>=0.1.17->langchain) (0.28.1)\n",
            "Requirement already satisfied: orjson<4.0.0,>=3.9.14 in /usr/local/lib/python3.11/dist-packages (from langsmith<0.4,>=0.1.17->langchain) (3.10.15)\n",
            "Requirement already satisfied: requests-toolbelt<2.0.0,>=1.0.0 in /usr/local/lib/python3.11/dist-packages (from langsmith<0.4,>=0.1.17->langchain) (1.0.0)\n",
            "Requirement already satisfied: zstandard<0.24.0,>=0.23.0 in /usr/local/lib/python3.11/dist-packages (from langsmith<0.4,>=0.1.17->langchain) (0.23.0)\n",
            "Requirement already satisfied: annotated-types>=0.6.0 in /usr/local/lib/python3.11/dist-packages (from pydantic<3.0.0,>=2.7.4->langchain) (0.7.0)\n",
            "Requirement already satisfied: pydantic-core==2.27.2 in /usr/local/lib/python3.11/dist-packages (from pydantic<3.0.0,>=2.7.4->langchain) (2.27.2)\n",
            "Requirement already satisfied: charset-normalizer<4,>=2 in /usr/local/lib/python3.11/dist-packages (from requests<3,>=2->langchain) (3.4.1)\n",
            "Requirement already satisfied: idna<4,>=2.5 in /usr/local/lib/python3.11/dist-packages (from requests<3,>=2->langchain) (3.10)\n",
            "Requirement already satisfied: urllib3<3,>=1.21.1 in /usr/local/lib/python3.11/dist-packages (from requests<3,>=2->langchain) (2.3.0)\n",
            "Requirement already satisfied: certifi>=2017.4.17 in /usr/local/lib/python3.11/dist-packages (from requests<3,>=2->langchain) (2025.1.31)\n",
            "Requirement already satisfied: greenlet!=0.4.17 in /usr/local/lib/python3.11/dist-packages (from SQLAlchemy<3,>=1.4->langchain) (3.1.1)\n",
            "Requirement already satisfied: anyio in /usr/local/lib/python3.11/dist-packages (from httpx<1,>=0.23.0->langsmith<0.4,>=0.1.17->langchain) (3.7.1)\n",
            "Requirement already satisfied: httpcore==1.* in /usr/local/lib/python3.11/dist-packages (from httpx<1,>=0.23.0->langsmith<0.4,>=0.1.17->langchain) (1.0.7)\n",
            "Requirement already satisfied: h11<0.15,>=0.13 in /usr/local/lib/python3.11/dist-packages (from httpcore==1.*->httpx<1,>=0.23.0->langsmith<0.4,>=0.1.17->langchain) (0.14.0)\n",
            "Requirement already satisfied: jsonpointer>=1.9 in /usr/local/lib/python3.11/dist-packages (from jsonpatch<2.0,>=1.33->langchain-core<1.0.0,>=0.3.35->langchain) (3.0.0)\n",
            "Requirement already satisfied: sniffio>=1.1 in /usr/local/lib/python3.11/dist-packages (from anyio->httpx<1,>=0.23.0->langsmith<0.4,>=0.1.17->langchain) (1.3.1)\n"
          ]
        }
      ]
    },
    {
      "cell_type": "code",
      "source": [
        "!pip install langchain-openai"
      ],
      "metadata": {
        "collapsed": true,
        "id": "NXMxAQMUWLjp",
        "colab": {
          "base_uri": "https://localhost:8080/"
        },
        "outputId": "9a4a401b-7589-4d4f-ff24-2da5a425f3eb"
      },
      "execution_count": 3,
      "outputs": [
        {
          "output_type": "stream",
          "name": "stdout",
          "text": [
            "Collecting langchain-openai\n",
            "  Downloading langchain_openai-0.3.8-py3-none-any.whl.metadata (2.3 kB)\n",
            "Collecting langchain-core<1.0.0,>=0.3.42 (from langchain-openai)\n",
            "  Downloading langchain_core-0.3.43-py3-none-any.whl.metadata (5.9 kB)\n",
            "Requirement already satisfied: openai<2.0.0,>=1.58.1 in /usr/local/lib/python3.11/dist-packages (from langchain-openai) (1.61.1)\n",
            "Requirement already satisfied: tiktoken<1,>=0.7 in /usr/local/lib/python3.11/dist-packages (from langchain-openai) (0.9.0)\n",
            "Requirement already satisfied: langsmith<0.4,>=0.1.125 in /usr/local/lib/python3.11/dist-packages (from langchain-core<1.0.0,>=0.3.42->langchain-openai) (0.3.11)\n",
            "Requirement already satisfied: tenacity!=8.4.0,<10.0.0,>=8.1.0 in /usr/local/lib/python3.11/dist-packages (from langchain-core<1.0.0,>=0.3.42->langchain-openai) (9.0.0)\n",
            "Requirement already satisfied: jsonpatch<2.0,>=1.33 in /usr/local/lib/python3.11/dist-packages (from langchain-core<1.0.0,>=0.3.42->langchain-openai) (1.33)\n",
            "Requirement already satisfied: PyYAML>=5.3 in /usr/local/lib/python3.11/dist-packages (from langchain-core<1.0.0,>=0.3.42->langchain-openai) (6.0.2)\n",
            "Requirement already satisfied: packaging<25,>=23.2 in /usr/local/lib/python3.11/dist-packages (from langchain-core<1.0.0,>=0.3.42->langchain-openai) (24.2)\n",
            "Requirement already satisfied: typing-extensions>=4.7 in /usr/local/lib/python3.11/dist-packages (from langchain-core<1.0.0,>=0.3.42->langchain-openai) (4.12.2)\n",
            "Requirement already satisfied: pydantic<3.0.0,>=2.5.2 in /usr/local/lib/python3.11/dist-packages (from langchain-core<1.0.0,>=0.3.42->langchain-openai) (2.10.6)\n",
            "Requirement already satisfied: anyio<5,>=3.5.0 in /usr/local/lib/python3.11/dist-packages (from openai<2.0.0,>=1.58.1->langchain-openai) (3.7.1)\n",
            "Requirement already satisfied: distro<2,>=1.7.0 in /usr/local/lib/python3.11/dist-packages (from openai<2.0.0,>=1.58.1->langchain-openai) (1.9.0)\n",
            "Requirement already satisfied: httpx<1,>=0.23.0 in /usr/local/lib/python3.11/dist-packages (from openai<2.0.0,>=1.58.1->langchain-openai) (0.28.1)\n",
            "Requirement already satisfied: jiter<1,>=0.4.0 in /usr/local/lib/python3.11/dist-packages (from openai<2.0.0,>=1.58.1->langchain-openai) (0.8.2)\n",
            "Requirement already satisfied: sniffio in /usr/local/lib/python3.11/dist-packages (from openai<2.0.0,>=1.58.1->langchain-openai) (1.3.1)\n",
            "Requirement already satisfied: tqdm>4 in /usr/local/lib/python3.11/dist-packages (from openai<2.0.0,>=1.58.1->langchain-openai) (4.67.1)\n",
            "Requirement already satisfied: regex>=2022.1.18 in /usr/local/lib/python3.11/dist-packages (from tiktoken<1,>=0.7->langchain-openai) (2024.11.6)\n",
            "Requirement already satisfied: requests>=2.26.0 in /usr/local/lib/python3.11/dist-packages (from tiktoken<1,>=0.7->langchain-openai) (2.32.3)\n",
            "Requirement already satisfied: idna>=2.8 in /usr/local/lib/python3.11/dist-packages (from anyio<5,>=3.5.0->openai<2.0.0,>=1.58.1->langchain-openai) (3.10)\n",
            "Requirement already satisfied: certifi in /usr/local/lib/python3.11/dist-packages (from httpx<1,>=0.23.0->openai<2.0.0,>=1.58.1->langchain-openai) (2025.1.31)\n",
            "Requirement already satisfied: httpcore==1.* in /usr/local/lib/python3.11/dist-packages (from httpx<1,>=0.23.0->openai<2.0.0,>=1.58.1->langchain-openai) (1.0.7)\n",
            "Requirement already satisfied: h11<0.15,>=0.13 in /usr/local/lib/python3.11/dist-packages (from httpcore==1.*->httpx<1,>=0.23.0->openai<2.0.0,>=1.58.1->langchain-openai) (0.14.0)\n",
            "Requirement already satisfied: jsonpointer>=1.9 in /usr/local/lib/python3.11/dist-packages (from jsonpatch<2.0,>=1.33->langchain-core<1.0.0,>=0.3.42->langchain-openai) (3.0.0)\n",
            "Requirement already satisfied: orjson<4.0.0,>=3.9.14 in /usr/local/lib/python3.11/dist-packages (from langsmith<0.4,>=0.1.125->langchain-core<1.0.0,>=0.3.42->langchain-openai) (3.10.15)\n",
            "Requirement already satisfied: requests-toolbelt<2.0.0,>=1.0.0 in /usr/local/lib/python3.11/dist-packages (from langsmith<0.4,>=0.1.125->langchain-core<1.0.0,>=0.3.42->langchain-openai) (1.0.0)\n",
            "Requirement already satisfied: zstandard<0.24.0,>=0.23.0 in /usr/local/lib/python3.11/dist-packages (from langsmith<0.4,>=0.1.125->langchain-core<1.0.0,>=0.3.42->langchain-openai) (0.23.0)\n",
            "Requirement already satisfied: annotated-types>=0.6.0 in /usr/local/lib/python3.11/dist-packages (from pydantic<3.0.0,>=2.5.2->langchain-core<1.0.0,>=0.3.42->langchain-openai) (0.7.0)\n",
            "Requirement already satisfied: pydantic-core==2.27.2 in /usr/local/lib/python3.11/dist-packages (from pydantic<3.0.0,>=2.5.2->langchain-core<1.0.0,>=0.3.42->langchain-openai) (2.27.2)\n",
            "Requirement already satisfied: charset-normalizer<4,>=2 in /usr/local/lib/python3.11/dist-packages (from requests>=2.26.0->tiktoken<1,>=0.7->langchain-openai) (3.4.1)\n",
            "Requirement already satisfied: urllib3<3,>=1.21.1 in /usr/local/lib/python3.11/dist-packages (from requests>=2.26.0->tiktoken<1,>=0.7->langchain-openai) (2.3.0)\n",
            "Downloading langchain_openai-0.3.8-py3-none-any.whl (55 kB)\n",
            "\u001b[2K   \u001b[90m━━━━━━━━━━━━━━━━━━━━━━━━━━━━━━━━━━━━━━━━\u001b[0m \u001b[32m55.4/55.4 kB\u001b[0m \u001b[31m1.1 MB/s\u001b[0m eta \u001b[36m0:00:00\u001b[0m\n",
            "\u001b[?25hDownloading langchain_core-0.3.43-py3-none-any.whl (415 kB)\n",
            "\u001b[2K   \u001b[90m━━━━━━━━━━━━━━━━━━━━━━━━━━━━━━━━━━━━━━━━\u001b[0m \u001b[32m415.4/415.4 kB\u001b[0m \u001b[31m7.8 MB/s\u001b[0m eta \u001b[36m0:00:00\u001b[0m\n",
            "\u001b[?25hInstalling collected packages: langchain-core, langchain-openai\n",
            "  Attempting uninstall: langchain-core\n",
            "    Found existing installation: langchain-core 0.3.40\n",
            "    Uninstalling langchain-core-0.3.40:\n",
            "      Successfully uninstalled langchain-core-0.3.40\n",
            "Successfully installed langchain-core-0.3.43 langchain-openai-0.3.8\n"
          ]
        }
      ]
    },
    {
      "cell_type": "code",
      "source": [
        "!pip install cohere"
      ],
      "metadata": {
        "collapsed": true,
        "id": "umji_ozuWLUI",
        "colab": {
          "base_uri": "https://localhost:8080/"
        },
        "outputId": "ba96a864-6795-4269-fd39-4ad5bdd9a9bd"
      },
      "execution_count": 4,
      "outputs": [
        {
          "output_type": "stream",
          "name": "stdout",
          "text": [
            "Collecting cohere\n",
            "  Downloading cohere-5.14.0-py3-none-any.whl.metadata (3.4 kB)\n",
            "Collecting fastavro<2.0.0,>=1.9.4 (from cohere)\n",
            "  Downloading fastavro-1.10.0-cp311-cp311-manylinux_2_17_x86_64.manylinux2014_x86_64.whl.metadata (5.5 kB)\n",
            "Requirement already satisfied: httpx>=0.21.2 in /usr/local/lib/python3.11/dist-packages (from cohere) (0.28.1)\n",
            "Collecting httpx-sse==0.4.0 (from cohere)\n",
            "  Downloading httpx_sse-0.4.0-py3-none-any.whl.metadata (9.0 kB)\n",
            "Requirement already satisfied: pydantic>=1.9.2 in /usr/local/lib/python3.11/dist-packages (from cohere) (2.10.6)\n",
            "Requirement already satisfied: pydantic-core<3.0.0,>=2.18.2 in /usr/local/lib/python3.11/dist-packages (from cohere) (2.27.2)\n",
            "Requirement already satisfied: requests<3.0.0,>=2.0.0 in /usr/local/lib/python3.11/dist-packages (from cohere) (2.32.3)\n",
            "Requirement already satisfied: tokenizers<1,>=0.15 in /usr/local/lib/python3.11/dist-packages (from cohere) (0.21.0)\n",
            "Collecting types-requests<3.0.0,>=2.0.0 (from cohere)\n",
            "  Downloading types_requests-2.32.0.20250306-py3-none-any.whl.metadata (2.3 kB)\n",
            "Requirement already satisfied: typing_extensions>=4.0.0 in /usr/local/lib/python3.11/dist-packages (from cohere) (4.12.2)\n",
            "Requirement already satisfied: anyio in /usr/local/lib/python3.11/dist-packages (from httpx>=0.21.2->cohere) (3.7.1)\n",
            "Requirement already satisfied: certifi in /usr/local/lib/python3.11/dist-packages (from httpx>=0.21.2->cohere) (2025.1.31)\n",
            "Requirement already satisfied: httpcore==1.* in /usr/local/lib/python3.11/dist-packages (from httpx>=0.21.2->cohere) (1.0.7)\n",
            "Requirement already satisfied: idna in /usr/local/lib/python3.11/dist-packages (from httpx>=0.21.2->cohere) (3.10)\n",
            "Requirement already satisfied: h11<0.15,>=0.13 in /usr/local/lib/python3.11/dist-packages (from httpcore==1.*->httpx>=0.21.2->cohere) (0.14.0)\n",
            "Requirement already satisfied: annotated-types>=0.6.0 in /usr/local/lib/python3.11/dist-packages (from pydantic>=1.9.2->cohere) (0.7.0)\n",
            "Requirement already satisfied: charset-normalizer<4,>=2 in /usr/local/lib/python3.11/dist-packages (from requests<3.0.0,>=2.0.0->cohere) (3.4.1)\n",
            "Requirement already satisfied: urllib3<3,>=1.21.1 in /usr/local/lib/python3.11/dist-packages (from requests<3.0.0,>=2.0.0->cohere) (2.3.0)\n",
            "Requirement already satisfied: huggingface-hub<1.0,>=0.16.4 in /usr/local/lib/python3.11/dist-packages (from tokenizers<1,>=0.15->cohere) (0.28.1)\n",
            "Requirement already satisfied: filelock in /usr/local/lib/python3.11/dist-packages (from huggingface-hub<1.0,>=0.16.4->tokenizers<1,>=0.15->cohere) (3.17.0)\n",
            "Requirement already satisfied: fsspec>=2023.5.0 in /usr/local/lib/python3.11/dist-packages (from huggingface-hub<1.0,>=0.16.4->tokenizers<1,>=0.15->cohere) (2024.10.0)\n",
            "Requirement already satisfied: packaging>=20.9 in /usr/local/lib/python3.11/dist-packages (from huggingface-hub<1.0,>=0.16.4->tokenizers<1,>=0.15->cohere) (24.2)\n",
            "Requirement already satisfied: pyyaml>=5.1 in /usr/local/lib/python3.11/dist-packages (from huggingface-hub<1.0,>=0.16.4->tokenizers<1,>=0.15->cohere) (6.0.2)\n",
            "Requirement already satisfied: tqdm>=4.42.1 in /usr/local/lib/python3.11/dist-packages (from huggingface-hub<1.0,>=0.16.4->tokenizers<1,>=0.15->cohere) (4.67.1)\n",
            "Requirement already satisfied: sniffio>=1.1 in /usr/local/lib/python3.11/dist-packages (from anyio->httpx>=0.21.2->cohere) (1.3.1)\n",
            "Downloading cohere-5.14.0-py3-none-any.whl (253 kB)\n",
            "\u001b[2K   \u001b[90m━━━━━━━━━━━━━━━━━━━━━━━━━━━━━━━━━━━━━━━━\u001b[0m \u001b[32m253.9/253.9 kB\u001b[0m \u001b[31m15.6 MB/s\u001b[0m eta \u001b[36m0:00:00\u001b[0m\n",
            "\u001b[?25hDownloading httpx_sse-0.4.0-py3-none-any.whl (7.8 kB)\n",
            "Downloading fastavro-1.10.0-cp311-cp311-manylinux_2_17_x86_64.manylinux2014_x86_64.whl (3.3 MB)\n",
            "\u001b[2K   \u001b[90m━━━━━━━━━━━━━━━━━━━━━━━━━━━━━━━━━━━━━━━━\u001b[0m \u001b[32m3.3/3.3 MB\u001b[0m \u001b[31m43.5 MB/s\u001b[0m eta \u001b[36m0:00:00\u001b[0m\n",
            "\u001b[?25hDownloading types_requests-2.32.0.20250306-py3-none-any.whl (20 kB)\n",
            "Installing collected packages: types-requests, httpx-sse, fastavro, cohere\n",
            "Successfully installed cohere-5.14.0 fastavro-1.10.0 httpx-sse-0.4.0 types-requests-2.32.0.20250306\n"
          ]
        }
      ]
    },
    {
      "cell_type": "code",
      "source": [
        "!pip install langchain_google_genai"
      ],
      "metadata": {
        "collapsed": true,
        "id": "IatmHIXFWhhq",
        "colab": {
          "base_uri": "https://localhost:8080/",
          "height": 1000
        },
        "outputId": "5befe0e7-32a7-4207-937f-748182182d60"
      },
      "execution_count": 5,
      "outputs": [
        {
          "output_type": "stream",
          "name": "stdout",
          "text": [
            "Collecting langchain_google_genai\n",
            "  Downloading langchain_google_genai-2.0.11-py3-none-any.whl.metadata (3.6 kB)\n",
            "Collecting filetype<2.0.0,>=1.2.0 (from langchain_google_genai)\n",
            "  Downloading filetype-1.2.0-py2.py3-none-any.whl.metadata (6.5 kB)\n",
            "Collecting google-ai-generativelanguage<0.7.0,>=0.6.16 (from langchain_google_genai)\n",
            "  Downloading google_ai_generativelanguage-0.6.16-py3-none-any.whl.metadata (5.7 kB)\n",
            "Requirement already satisfied: langchain-core<0.4.0,>=0.3.37 in /usr/local/lib/python3.11/dist-packages (from langchain_google_genai) (0.3.43)\n",
            "Requirement already satisfied: pydantic<3,>=2 in /usr/local/lib/python3.11/dist-packages (from langchain_google_genai) (2.10.6)\n",
            "Requirement already satisfied: google-api-core!=2.0.*,!=2.1.*,!=2.10.*,!=2.2.*,!=2.3.*,!=2.4.*,!=2.5.*,!=2.6.*,!=2.7.*,!=2.8.*,!=2.9.*,<3.0.0dev,>=1.34.1 in /usr/local/lib/python3.11/dist-packages (from google-api-core[grpc]!=2.0.*,!=2.1.*,!=2.10.*,!=2.2.*,!=2.3.*,!=2.4.*,!=2.5.*,!=2.6.*,!=2.7.*,!=2.8.*,!=2.9.*,<3.0.0dev,>=1.34.1->google-ai-generativelanguage<0.7.0,>=0.6.16->langchain_google_genai) (2.24.1)\n",
            "Requirement already satisfied: google-auth!=2.24.0,!=2.25.0,<3.0.0dev,>=2.14.1 in /usr/local/lib/python3.11/dist-packages (from google-ai-generativelanguage<0.7.0,>=0.6.16->langchain_google_genai) (2.38.0)\n",
            "Requirement already satisfied: proto-plus<2.0.0dev,>=1.22.3 in /usr/local/lib/python3.11/dist-packages (from google-ai-generativelanguage<0.7.0,>=0.6.16->langchain_google_genai) (1.26.0)\n",
            "Requirement already satisfied: protobuf!=4.21.0,!=4.21.1,!=4.21.2,!=4.21.3,!=4.21.4,!=4.21.5,<6.0.0dev,>=3.20.2 in /usr/local/lib/python3.11/dist-packages (from google-ai-generativelanguage<0.7.0,>=0.6.16->langchain_google_genai) (4.25.6)\n",
            "Requirement already satisfied: langsmith<0.4,>=0.1.125 in /usr/local/lib/python3.11/dist-packages (from langchain-core<0.4.0,>=0.3.37->langchain_google_genai) (0.3.11)\n",
            "Requirement already satisfied: tenacity!=8.4.0,<10.0.0,>=8.1.0 in /usr/local/lib/python3.11/dist-packages (from langchain-core<0.4.0,>=0.3.37->langchain_google_genai) (9.0.0)\n",
            "Requirement already satisfied: jsonpatch<2.0,>=1.33 in /usr/local/lib/python3.11/dist-packages (from langchain-core<0.4.0,>=0.3.37->langchain_google_genai) (1.33)\n",
            "Requirement already satisfied: PyYAML>=5.3 in /usr/local/lib/python3.11/dist-packages (from langchain-core<0.4.0,>=0.3.37->langchain_google_genai) (6.0.2)\n",
            "Requirement already satisfied: packaging<25,>=23.2 in /usr/local/lib/python3.11/dist-packages (from langchain-core<0.4.0,>=0.3.37->langchain_google_genai) (24.2)\n",
            "Requirement already satisfied: typing-extensions>=4.7 in /usr/local/lib/python3.11/dist-packages (from langchain-core<0.4.0,>=0.3.37->langchain_google_genai) (4.12.2)\n",
            "Requirement already satisfied: annotated-types>=0.6.0 in /usr/local/lib/python3.11/dist-packages (from pydantic<3,>=2->langchain_google_genai) (0.7.0)\n",
            "Requirement already satisfied: pydantic-core==2.27.2 in /usr/local/lib/python3.11/dist-packages (from pydantic<3,>=2->langchain_google_genai) (2.27.2)\n",
            "Requirement already satisfied: googleapis-common-protos<2.0.dev0,>=1.56.2 in /usr/local/lib/python3.11/dist-packages (from google-api-core!=2.0.*,!=2.1.*,!=2.10.*,!=2.2.*,!=2.3.*,!=2.4.*,!=2.5.*,!=2.6.*,!=2.7.*,!=2.8.*,!=2.9.*,<3.0.0dev,>=1.34.1->google-api-core[grpc]!=2.0.*,!=2.1.*,!=2.10.*,!=2.2.*,!=2.3.*,!=2.4.*,!=2.5.*,!=2.6.*,!=2.7.*,!=2.8.*,!=2.9.*,<3.0.0dev,>=1.34.1->google-ai-generativelanguage<0.7.0,>=0.6.16->langchain_google_genai) (1.69.0)\n",
            "Requirement already satisfied: requests<3.0.0.dev0,>=2.18.0 in /usr/local/lib/python3.11/dist-packages (from google-api-core!=2.0.*,!=2.1.*,!=2.10.*,!=2.2.*,!=2.3.*,!=2.4.*,!=2.5.*,!=2.6.*,!=2.7.*,!=2.8.*,!=2.9.*,<3.0.0dev,>=1.34.1->google-api-core[grpc]!=2.0.*,!=2.1.*,!=2.10.*,!=2.2.*,!=2.3.*,!=2.4.*,!=2.5.*,!=2.6.*,!=2.7.*,!=2.8.*,!=2.9.*,<3.0.0dev,>=1.34.1->google-ai-generativelanguage<0.7.0,>=0.6.16->langchain_google_genai) (2.32.3)\n",
            "Requirement already satisfied: grpcio<2.0dev,>=1.33.2 in /usr/local/lib/python3.11/dist-packages (from google-api-core[grpc]!=2.0.*,!=2.1.*,!=2.10.*,!=2.2.*,!=2.3.*,!=2.4.*,!=2.5.*,!=2.6.*,!=2.7.*,!=2.8.*,!=2.9.*,<3.0.0dev,>=1.34.1->google-ai-generativelanguage<0.7.0,>=0.6.16->langchain_google_genai) (1.70.0)\n",
            "Requirement already satisfied: grpcio-status<2.0.dev0,>=1.33.2 in /usr/local/lib/python3.11/dist-packages (from google-api-core[grpc]!=2.0.*,!=2.1.*,!=2.10.*,!=2.2.*,!=2.3.*,!=2.4.*,!=2.5.*,!=2.6.*,!=2.7.*,!=2.8.*,!=2.9.*,<3.0.0dev,>=1.34.1->google-ai-generativelanguage<0.7.0,>=0.6.16->langchain_google_genai) (1.62.3)\n",
            "Requirement already satisfied: cachetools<6.0,>=2.0.0 in /usr/local/lib/python3.11/dist-packages (from google-auth!=2.24.0,!=2.25.0,<3.0.0dev,>=2.14.1->google-ai-generativelanguage<0.7.0,>=0.6.16->langchain_google_genai) (5.5.2)\n",
            "Requirement already satisfied: pyasn1-modules>=0.2.1 in /usr/local/lib/python3.11/dist-packages (from google-auth!=2.24.0,!=2.25.0,<3.0.0dev,>=2.14.1->google-ai-generativelanguage<0.7.0,>=0.6.16->langchain_google_genai) (0.4.1)\n",
            "Requirement already satisfied: rsa<5,>=3.1.4 in /usr/local/lib/python3.11/dist-packages (from google-auth!=2.24.0,!=2.25.0,<3.0.0dev,>=2.14.1->google-ai-generativelanguage<0.7.0,>=0.6.16->langchain_google_genai) (4.9)\n",
            "Requirement already satisfied: jsonpointer>=1.9 in /usr/local/lib/python3.11/dist-packages (from jsonpatch<2.0,>=1.33->langchain-core<0.4.0,>=0.3.37->langchain_google_genai) (3.0.0)\n",
            "Requirement already satisfied: httpx<1,>=0.23.0 in /usr/local/lib/python3.11/dist-packages (from langsmith<0.4,>=0.1.125->langchain-core<0.4.0,>=0.3.37->langchain_google_genai) (0.28.1)\n",
            "Requirement already satisfied: orjson<4.0.0,>=3.9.14 in /usr/local/lib/python3.11/dist-packages (from langsmith<0.4,>=0.1.125->langchain-core<0.4.0,>=0.3.37->langchain_google_genai) (3.10.15)\n",
            "Requirement already satisfied: requests-toolbelt<2.0.0,>=1.0.0 in /usr/local/lib/python3.11/dist-packages (from langsmith<0.4,>=0.1.125->langchain-core<0.4.0,>=0.3.37->langchain_google_genai) (1.0.0)\n",
            "Requirement already satisfied: zstandard<0.24.0,>=0.23.0 in /usr/local/lib/python3.11/dist-packages (from langsmith<0.4,>=0.1.125->langchain-core<0.4.0,>=0.3.37->langchain_google_genai) (0.23.0)\n",
            "Requirement already satisfied: anyio in /usr/local/lib/python3.11/dist-packages (from httpx<1,>=0.23.0->langsmith<0.4,>=0.1.125->langchain-core<0.4.0,>=0.3.37->langchain_google_genai) (3.7.1)\n",
            "Requirement already satisfied: certifi in /usr/local/lib/python3.11/dist-packages (from httpx<1,>=0.23.0->langsmith<0.4,>=0.1.125->langchain-core<0.4.0,>=0.3.37->langchain_google_genai) (2025.1.31)\n",
            "Requirement already satisfied: httpcore==1.* in /usr/local/lib/python3.11/dist-packages (from httpx<1,>=0.23.0->langsmith<0.4,>=0.1.125->langchain-core<0.4.0,>=0.3.37->langchain_google_genai) (1.0.7)\n",
            "Requirement already satisfied: idna in /usr/local/lib/python3.11/dist-packages (from httpx<1,>=0.23.0->langsmith<0.4,>=0.1.125->langchain-core<0.4.0,>=0.3.37->langchain_google_genai) (3.10)\n",
            "Requirement already satisfied: h11<0.15,>=0.13 in /usr/local/lib/python3.11/dist-packages (from httpcore==1.*->httpx<1,>=0.23.0->langsmith<0.4,>=0.1.125->langchain-core<0.4.0,>=0.3.37->langchain_google_genai) (0.14.0)\n",
            "Requirement already satisfied: pyasn1<0.7.0,>=0.4.6 in /usr/local/lib/python3.11/dist-packages (from pyasn1-modules>=0.2.1->google-auth!=2.24.0,!=2.25.0,<3.0.0dev,>=2.14.1->google-ai-generativelanguage<0.7.0,>=0.6.16->langchain_google_genai) (0.6.1)\n",
            "Requirement already satisfied: charset-normalizer<4,>=2 in /usr/local/lib/python3.11/dist-packages (from requests<3.0.0.dev0,>=2.18.0->google-api-core!=2.0.*,!=2.1.*,!=2.10.*,!=2.2.*,!=2.3.*,!=2.4.*,!=2.5.*,!=2.6.*,!=2.7.*,!=2.8.*,!=2.9.*,<3.0.0dev,>=1.34.1->google-api-core[grpc]!=2.0.*,!=2.1.*,!=2.10.*,!=2.2.*,!=2.3.*,!=2.4.*,!=2.5.*,!=2.6.*,!=2.7.*,!=2.8.*,!=2.9.*,<3.0.0dev,>=1.34.1->google-ai-generativelanguage<0.7.0,>=0.6.16->langchain_google_genai) (3.4.1)\n",
            "Requirement already satisfied: urllib3<3,>=1.21.1 in /usr/local/lib/python3.11/dist-packages (from requests<3.0.0.dev0,>=2.18.0->google-api-core!=2.0.*,!=2.1.*,!=2.10.*,!=2.2.*,!=2.3.*,!=2.4.*,!=2.5.*,!=2.6.*,!=2.7.*,!=2.8.*,!=2.9.*,<3.0.0dev,>=1.34.1->google-api-core[grpc]!=2.0.*,!=2.1.*,!=2.10.*,!=2.2.*,!=2.3.*,!=2.4.*,!=2.5.*,!=2.6.*,!=2.7.*,!=2.8.*,!=2.9.*,<3.0.0dev,>=1.34.1->google-ai-generativelanguage<0.7.0,>=0.6.16->langchain_google_genai) (2.3.0)\n",
            "Requirement already satisfied: sniffio>=1.1 in /usr/local/lib/python3.11/dist-packages (from anyio->httpx<1,>=0.23.0->langsmith<0.4,>=0.1.125->langchain-core<0.4.0,>=0.3.37->langchain_google_genai) (1.3.1)\n",
            "Downloading langchain_google_genai-2.0.11-py3-none-any.whl (39 kB)\n",
            "Downloading filetype-1.2.0-py2.py3-none-any.whl (19 kB)\n",
            "Downloading google_ai_generativelanguage-0.6.16-py3-none-any.whl (1.4 MB)\n",
            "\u001b[2K   \u001b[90m━━━━━━━━━━━━━━━━━━━━━━━━━━━━━━━━━━━━━━━━\u001b[0m \u001b[32m1.4/1.4 MB\u001b[0m \u001b[31m45.1 MB/s\u001b[0m eta \u001b[36m0:00:00\u001b[0m\n",
            "\u001b[?25hInstalling collected packages: filetype, google-ai-generativelanguage, langchain_google_genai\n",
            "  Attempting uninstall: google-ai-generativelanguage\n",
            "    Found existing installation: google-ai-generativelanguage 0.6.15\n",
            "    Uninstalling google-ai-generativelanguage-0.6.15:\n",
            "      Successfully uninstalled google-ai-generativelanguage-0.6.15\n",
            "\u001b[31mERROR: pip's dependency resolver does not currently take into account all the packages that are installed. This behaviour is the source of the following dependency conflicts.\n",
            "google-generativeai 0.8.4 requires google-ai-generativelanguage==0.6.15, but you have google-ai-generativelanguage 0.6.16 which is incompatible.\u001b[0m\u001b[31m\n",
            "\u001b[0mSuccessfully installed filetype-1.2.0 google-ai-generativelanguage-0.6.16 langchain_google_genai-2.0.11\n"
          ]
        },
        {
          "output_type": "display_data",
          "data": {
            "application/vnd.colab-display-data+json": {
              "pip_warning": {
                "packages": [
                  "google"
                ]
              },
              "id": "465437711bbe4507b663ea87386866c6"
            }
          },
          "metadata": {}
        }
      ]
    },
    {
      "cell_type": "code",
      "source": [
        "!pip install langchain-cohere"
      ],
      "metadata": {
        "collapsed": true,
        "id": "X3lWa-DCWNnh",
        "colab": {
          "base_uri": "https://localhost:8080/"
        },
        "outputId": "030938cf-686f-4ccb-ba63-150077353ee6"
      },
      "execution_count": 1,
      "outputs": [
        {
          "output_type": "stream",
          "name": "stdout",
          "text": [
            "Collecting langchain-cohere\n",
            "  Downloading langchain_cohere-0.4.2-py3-none-any.whl.metadata (6.6 kB)\n",
            "Requirement already satisfied: cohere<6.0,>=5.12.0 in /usr/local/lib/python3.11/dist-packages (from langchain-cohere) (5.14.0)\n",
            "Collecting langchain-community<0.4.0,>=0.3.0 (from langchain-cohere)\n",
            "  Downloading langchain_community-0.3.19-py3-none-any.whl.metadata (2.4 kB)\n",
            "Requirement already satisfied: langchain-core<0.4.0,>=0.3.27 in /usr/local/lib/python3.11/dist-packages (from langchain-cohere) (0.3.43)\n",
            "Requirement already satisfied: pydantic<3,>=2 in /usr/local/lib/python3.11/dist-packages (from langchain-cohere) (2.10.6)\n",
            "Collecting types-pyyaml<7.0.0.0,>=6.0.12.20240917 (from langchain-cohere)\n",
            "  Downloading types_PyYAML-6.0.12.20241230-py3-none-any.whl.metadata (1.8 kB)\n",
            "Requirement already satisfied: fastavro<2.0.0,>=1.9.4 in /usr/local/lib/python3.11/dist-packages (from cohere<6.0,>=5.12.0->langchain-cohere) (1.10.0)\n",
            "Requirement already satisfied: httpx>=0.21.2 in /usr/local/lib/python3.11/dist-packages (from cohere<6.0,>=5.12.0->langchain-cohere) (0.28.1)\n",
            "Requirement already satisfied: httpx-sse==0.4.0 in /usr/local/lib/python3.11/dist-packages (from cohere<6.0,>=5.12.0->langchain-cohere) (0.4.0)\n",
            "Requirement already satisfied: pydantic-core<3.0.0,>=2.18.2 in /usr/local/lib/python3.11/dist-packages (from cohere<6.0,>=5.12.0->langchain-cohere) (2.27.2)\n",
            "Requirement already satisfied: requests<3.0.0,>=2.0.0 in /usr/local/lib/python3.11/dist-packages (from cohere<6.0,>=5.12.0->langchain-cohere) (2.32.3)\n",
            "Requirement already satisfied: tokenizers<1,>=0.15 in /usr/local/lib/python3.11/dist-packages (from cohere<6.0,>=5.12.0->langchain-cohere) (0.21.0)\n",
            "Requirement already satisfied: types-requests<3.0.0,>=2.0.0 in /usr/local/lib/python3.11/dist-packages (from cohere<6.0,>=5.12.0->langchain-cohere) (2.32.0.20250306)\n",
            "Requirement already satisfied: typing_extensions>=4.0.0 in /usr/local/lib/python3.11/dist-packages (from cohere<6.0,>=5.12.0->langchain-cohere) (4.12.2)\n",
            "Collecting langchain<1.0.0,>=0.3.20 (from langchain-community<0.4.0,>=0.3.0->langchain-cohere)\n",
            "  Downloading langchain-0.3.20-py3-none-any.whl.metadata (7.7 kB)\n",
            "Requirement already satisfied: SQLAlchemy<3,>=1.4 in /usr/local/lib/python3.11/dist-packages (from langchain-community<0.4.0,>=0.3.0->langchain-cohere) (2.0.38)\n",
            "Requirement already satisfied: PyYAML>=5.3 in /usr/local/lib/python3.11/dist-packages (from langchain-community<0.4.0,>=0.3.0->langchain-cohere) (6.0.2)\n",
            "Requirement already satisfied: aiohttp<4.0.0,>=3.8.3 in /usr/local/lib/python3.11/dist-packages (from langchain-community<0.4.0,>=0.3.0->langchain-cohere) (3.11.13)\n",
            "Requirement already satisfied: tenacity!=8.4.0,<10,>=8.1.0 in /usr/local/lib/python3.11/dist-packages (from langchain-community<0.4.0,>=0.3.0->langchain-cohere) (9.0.0)\n",
            "Collecting dataclasses-json<0.7,>=0.5.7 (from langchain-community<0.4.0,>=0.3.0->langchain-cohere)\n",
            "  Downloading dataclasses_json-0.6.7-py3-none-any.whl.metadata (25 kB)\n",
            "Collecting pydantic-settings<3.0.0,>=2.4.0 (from langchain-community<0.4.0,>=0.3.0->langchain-cohere)\n",
            "  Downloading pydantic_settings-2.8.1-py3-none-any.whl.metadata (3.5 kB)\n",
            "Requirement already satisfied: langsmith<0.4,>=0.1.125 in /usr/local/lib/python3.11/dist-packages (from langchain-community<0.4.0,>=0.3.0->langchain-cohere) (0.3.11)\n",
            "Requirement already satisfied: numpy<3,>=1.26.2 in /usr/local/lib/python3.11/dist-packages (from langchain-community<0.4.0,>=0.3.0->langchain-cohere) (1.26.4)\n",
            "Requirement already satisfied: jsonpatch<2.0,>=1.33 in /usr/local/lib/python3.11/dist-packages (from langchain-core<0.4.0,>=0.3.27->langchain-cohere) (1.33)\n",
            "Requirement already satisfied: packaging<25,>=23.2 in /usr/local/lib/python3.11/dist-packages (from langchain-core<0.4.0,>=0.3.27->langchain-cohere) (24.2)\n",
            "Requirement already satisfied: annotated-types>=0.6.0 in /usr/local/lib/python3.11/dist-packages (from pydantic<3,>=2->langchain-cohere) (0.7.0)\n",
            "Requirement already satisfied: aiohappyeyeballs>=2.3.0 in /usr/local/lib/python3.11/dist-packages (from aiohttp<4.0.0,>=3.8.3->langchain-community<0.4.0,>=0.3.0->langchain-cohere) (2.4.6)\n",
            "Requirement already satisfied: aiosignal>=1.1.2 in /usr/local/lib/python3.11/dist-packages (from aiohttp<4.0.0,>=3.8.3->langchain-community<0.4.0,>=0.3.0->langchain-cohere) (1.3.2)\n",
            "Requirement already satisfied: attrs>=17.3.0 in /usr/local/lib/python3.11/dist-packages (from aiohttp<4.0.0,>=3.8.3->langchain-community<0.4.0,>=0.3.0->langchain-cohere) (25.1.0)\n",
            "Requirement already satisfied: frozenlist>=1.1.1 in /usr/local/lib/python3.11/dist-packages (from aiohttp<4.0.0,>=3.8.3->langchain-community<0.4.0,>=0.3.0->langchain-cohere) (1.5.0)\n",
            "Requirement already satisfied: multidict<7.0,>=4.5 in /usr/local/lib/python3.11/dist-packages (from aiohttp<4.0.0,>=3.8.3->langchain-community<0.4.0,>=0.3.0->langchain-cohere) (6.1.0)\n",
            "Requirement already satisfied: propcache>=0.2.0 in /usr/local/lib/python3.11/dist-packages (from aiohttp<4.0.0,>=3.8.3->langchain-community<0.4.0,>=0.3.0->langchain-cohere) (0.3.0)\n",
            "Requirement already satisfied: yarl<2.0,>=1.17.0 in /usr/local/lib/python3.11/dist-packages (from aiohttp<4.0.0,>=3.8.3->langchain-community<0.4.0,>=0.3.0->langchain-cohere) (1.18.3)\n",
            "Collecting marshmallow<4.0.0,>=3.18.0 (from dataclasses-json<0.7,>=0.5.7->langchain-community<0.4.0,>=0.3.0->langchain-cohere)\n",
            "  Downloading marshmallow-3.26.1-py3-none-any.whl.metadata (7.3 kB)\n",
            "Collecting typing-inspect<1,>=0.4.0 (from dataclasses-json<0.7,>=0.5.7->langchain-community<0.4.0,>=0.3.0->langchain-cohere)\n",
            "  Downloading typing_inspect-0.9.0-py3-none-any.whl.metadata (1.5 kB)\n",
            "Requirement already satisfied: anyio in /usr/local/lib/python3.11/dist-packages (from httpx>=0.21.2->cohere<6.0,>=5.12.0->langchain-cohere) (3.7.1)\n",
            "Requirement already satisfied: certifi in /usr/local/lib/python3.11/dist-packages (from httpx>=0.21.2->cohere<6.0,>=5.12.0->langchain-cohere) (2025.1.31)\n",
            "Requirement already satisfied: httpcore==1.* in /usr/local/lib/python3.11/dist-packages (from httpx>=0.21.2->cohere<6.0,>=5.12.0->langchain-cohere) (1.0.7)\n",
            "Requirement already satisfied: idna in /usr/local/lib/python3.11/dist-packages (from httpx>=0.21.2->cohere<6.0,>=5.12.0->langchain-cohere) (3.10)\n",
            "Requirement already satisfied: h11<0.15,>=0.13 in /usr/local/lib/python3.11/dist-packages (from httpcore==1.*->httpx>=0.21.2->cohere<6.0,>=5.12.0->langchain-cohere) (0.14.0)\n",
            "Requirement already satisfied: jsonpointer>=1.9 in /usr/local/lib/python3.11/dist-packages (from jsonpatch<2.0,>=1.33->langchain-core<0.4.0,>=0.3.27->langchain-cohere) (3.0.0)\n",
            "Requirement already satisfied: langchain-text-splitters<1.0.0,>=0.3.6 in /usr/local/lib/python3.11/dist-packages (from langchain<1.0.0,>=0.3.20->langchain-community<0.4.0,>=0.3.0->langchain-cohere) (0.3.6)\n",
            "Requirement already satisfied: orjson<4.0.0,>=3.9.14 in /usr/local/lib/python3.11/dist-packages (from langsmith<0.4,>=0.1.125->langchain-community<0.4.0,>=0.3.0->langchain-cohere) (3.10.15)\n",
            "Requirement already satisfied: requests-toolbelt<2.0.0,>=1.0.0 in /usr/local/lib/python3.11/dist-packages (from langsmith<0.4,>=0.1.125->langchain-community<0.4.0,>=0.3.0->langchain-cohere) (1.0.0)\n",
            "Requirement already satisfied: zstandard<0.24.0,>=0.23.0 in /usr/local/lib/python3.11/dist-packages (from langsmith<0.4,>=0.1.125->langchain-community<0.4.0,>=0.3.0->langchain-cohere) (0.23.0)\n",
            "Collecting python-dotenv>=0.21.0 (from pydantic-settings<3.0.0,>=2.4.0->langchain-community<0.4.0,>=0.3.0->langchain-cohere)\n",
            "  Downloading python_dotenv-1.0.1-py3-none-any.whl.metadata (23 kB)\n",
            "Requirement already satisfied: charset-normalizer<4,>=2 in /usr/local/lib/python3.11/dist-packages (from requests<3.0.0,>=2.0.0->cohere<6.0,>=5.12.0->langchain-cohere) (3.4.1)\n",
            "Requirement already satisfied: urllib3<3,>=1.21.1 in /usr/local/lib/python3.11/dist-packages (from requests<3.0.0,>=2.0.0->cohere<6.0,>=5.12.0->langchain-cohere) (2.3.0)\n",
            "Requirement already satisfied: greenlet!=0.4.17 in /usr/local/lib/python3.11/dist-packages (from SQLAlchemy<3,>=1.4->langchain-community<0.4.0,>=0.3.0->langchain-cohere) (3.1.1)\n",
            "Requirement already satisfied: huggingface-hub<1.0,>=0.16.4 in /usr/local/lib/python3.11/dist-packages (from tokenizers<1,>=0.15->cohere<6.0,>=5.12.0->langchain-cohere) (0.28.1)\n",
            "Requirement already satisfied: filelock in /usr/local/lib/python3.11/dist-packages (from huggingface-hub<1.0,>=0.16.4->tokenizers<1,>=0.15->cohere<6.0,>=5.12.0->langchain-cohere) (3.17.0)\n",
            "Requirement already satisfied: fsspec>=2023.5.0 in /usr/local/lib/python3.11/dist-packages (from huggingface-hub<1.0,>=0.16.4->tokenizers<1,>=0.15->cohere<6.0,>=5.12.0->langchain-cohere) (2024.10.0)\n",
            "Requirement already satisfied: tqdm>=4.42.1 in /usr/local/lib/python3.11/dist-packages (from huggingface-hub<1.0,>=0.16.4->tokenizers<1,>=0.15->cohere<6.0,>=5.12.0->langchain-cohere) (4.67.1)\n",
            "Collecting mypy-extensions>=0.3.0 (from typing-inspect<1,>=0.4.0->dataclasses-json<0.7,>=0.5.7->langchain-community<0.4.0,>=0.3.0->langchain-cohere)\n",
            "  Downloading mypy_extensions-1.0.0-py3-none-any.whl.metadata (1.1 kB)\n",
            "Requirement already satisfied: sniffio>=1.1 in /usr/local/lib/python3.11/dist-packages (from anyio->httpx>=0.21.2->cohere<6.0,>=5.12.0->langchain-cohere) (1.3.1)\n",
            "Downloading langchain_cohere-0.4.2-py3-none-any.whl (42 kB)\n",
            "\u001b[2K   \u001b[90m━━━━━━━━━━━━━━━━━━━━━━━━━━━━━━━━━━━━━━━━\u001b[0m \u001b[32m42.2/42.2 kB\u001b[0m \u001b[31m3.0 MB/s\u001b[0m eta \u001b[36m0:00:00\u001b[0m\n",
            "\u001b[?25hDownloading langchain_community-0.3.19-py3-none-any.whl (2.5 MB)\n",
            "\u001b[2K   \u001b[90m━━━━━━━━━━━━━━━━━━━━━━━━━━━━━━━━━━━━━━━━\u001b[0m \u001b[32m2.5/2.5 MB\u001b[0m \u001b[31m68.1 MB/s\u001b[0m eta \u001b[36m0:00:00\u001b[0m\n",
            "\u001b[?25hDownloading types_PyYAML-6.0.12.20241230-py3-none-any.whl (20 kB)\n",
            "Downloading dataclasses_json-0.6.7-py3-none-any.whl (28 kB)\n",
            "Downloading langchain-0.3.20-py3-none-any.whl (1.0 MB)\n",
            "\u001b[2K   \u001b[90m━━━━━━━━━━━━━━━━━━━━━━━━━━━━━━━━━━━━━━━━\u001b[0m \u001b[32m1.0/1.0 MB\u001b[0m \u001b[31m49.7 MB/s\u001b[0m eta \u001b[36m0:00:00\u001b[0m\n",
            "\u001b[?25hDownloading pydantic_settings-2.8.1-py3-none-any.whl (30 kB)\n",
            "Downloading marshmallow-3.26.1-py3-none-any.whl (50 kB)\n",
            "\u001b[2K   \u001b[90m━━━━━━━━━━━━━━━━━━━━━━━━━━━━━━━━━━━━━━━━\u001b[0m \u001b[32m50.9/50.9 kB\u001b[0m \u001b[31m4.4 MB/s\u001b[0m eta \u001b[36m0:00:00\u001b[0m\n",
            "\u001b[?25hDownloading python_dotenv-1.0.1-py3-none-any.whl (19 kB)\n",
            "Downloading typing_inspect-0.9.0-py3-none-any.whl (8.8 kB)\n",
            "Downloading mypy_extensions-1.0.0-py3-none-any.whl (4.7 kB)\n",
            "Installing collected packages: types-pyyaml, python-dotenv, mypy-extensions, marshmallow, typing-inspect, pydantic-settings, dataclasses-json, langchain, langchain-community, langchain-cohere\n",
            "  Attempting uninstall: langchain\n",
            "    Found existing installation: langchain 0.3.19\n",
            "    Uninstalling langchain-0.3.19:\n",
            "      Successfully uninstalled langchain-0.3.19\n",
            "Successfully installed dataclasses-json-0.6.7 langchain-0.3.20 langchain-cohere-0.4.2 langchain-community-0.3.19 marshmallow-3.26.1 mypy-extensions-1.0.0 pydantic-settings-2.8.1 python-dotenv-1.0.1 types-pyyaml-6.0.12.20241230 typing-inspect-0.9.0\n"
          ]
        }
      ]
    },
    {
      "cell_type": "code",
      "source": [
        "# import getpass\n",
        "# import os\n",
        "# from google.colab import userdata\n",
        "# userdata.get('COHERE-API-KEY')"
      ],
      "metadata": {
        "collapsed": true,
        "id": "Xa_w-ZLQXKL-"
      },
      "execution_count": 2,
      "outputs": []
    },
    {
      "cell_type": "code",
      "source": [
        "import getpass\n",
        "import os\n",
        "os.environ[\"COHERE_API_KEY\"] = getpass.getpass()\n"
      ],
      "metadata": {
        "id": "nQmAlPOEXmvS",
        "collapsed": true,
        "colab": {
          "base_uri": "https://localhost:8080/"
        },
        "outputId": "a1a64598-1c0e-42ef-e402-79ae8ff3de9e"
      },
      "execution_count": 3,
      "outputs": [
        {
          "name": "stdout",
          "output_type": "stream",
          "text": [
            "··········\n"
          ]
        }
      ]
    },
    {
      "cell_type": "markdown",
      "metadata": {
        "id": "ye3gDxaRY3Xx"
      },
      "source": [
        "import getpass\n",
        "import os\n",
        "os.environ[\"KwFRyl8wL1kQgw4blZnI8ceIv2kV2kjrlRCHNCTe\"] = getpass.getpass()"
      ]
    },
    {
      "cell_type": "markdown",
      "source": [
        "from langchain_cohere.llms import Cohere\n",
        "model = Cohere(temperature=0.1)"
      ],
      "metadata": {
        "id": "WSVzMlQ-YBX-"
      }
    },
    {
      "cell_type": "code",
      "source": [
        "from langchain_cohere.llms import Cohere\n",
        "model= Cohere(temperature=0.1)"
      ],
      "metadata": {
        "id": "-O1Hp387af34"
      },
      "execution_count": 4,
      "outputs": []
    },
    {
      "cell_type": "code",
      "source": [
        "!pip install langchain-ollama"
      ],
      "metadata": {
        "colab": {
          "base_uri": "https://localhost:8080/"
        },
        "collapsed": true,
        "id": "412MR9-nOOtq",
        "outputId": "1f7aa488-a549-4449-e5f9-ae07549a862e"
      },
      "execution_count": 5,
      "outputs": [
        {
          "output_type": "stream",
          "name": "stdout",
          "text": [
            "Requirement already satisfied: langchain-ollama in /usr/local/lib/python3.11/dist-packages (0.2.3)\n",
            "Requirement already satisfied: langchain-core<0.4.0,>=0.3.33 in /usr/local/lib/python3.11/dist-packages (from langchain-ollama) (0.3.43)\n",
            "Requirement already satisfied: ollama<1,>=0.4.4 in /usr/local/lib/python3.11/dist-packages (from langchain-ollama) (0.4.7)\n",
            "Requirement already satisfied: langsmith<0.4,>=0.1.125 in /usr/local/lib/python3.11/dist-packages (from langchain-core<0.4.0,>=0.3.33->langchain-ollama) (0.3.11)\n",
            "Requirement already satisfied: tenacity!=8.4.0,<10.0.0,>=8.1.0 in /usr/local/lib/python3.11/dist-packages (from langchain-core<0.4.0,>=0.3.33->langchain-ollama) (9.0.0)\n",
            "Requirement already satisfied: jsonpatch<2.0,>=1.33 in /usr/local/lib/python3.11/dist-packages (from langchain-core<0.4.0,>=0.3.33->langchain-ollama) (1.33)\n",
            "Requirement already satisfied: PyYAML>=5.3 in /usr/local/lib/python3.11/dist-packages (from langchain-core<0.4.0,>=0.3.33->langchain-ollama) (6.0.2)\n",
            "Requirement already satisfied: packaging<25,>=23.2 in /usr/local/lib/python3.11/dist-packages (from langchain-core<0.4.0,>=0.3.33->langchain-ollama) (24.2)\n",
            "Requirement already satisfied: typing-extensions>=4.7 in /usr/local/lib/python3.11/dist-packages (from langchain-core<0.4.0,>=0.3.33->langchain-ollama) (4.12.2)\n",
            "Requirement already satisfied: pydantic<3.0.0,>=2.5.2 in /usr/local/lib/python3.11/dist-packages (from langchain-core<0.4.0,>=0.3.33->langchain-ollama) (2.10.6)\n",
            "Requirement already satisfied: httpx<0.29,>=0.27 in /usr/local/lib/python3.11/dist-packages (from ollama<1,>=0.4.4->langchain-ollama) (0.28.1)\n",
            "Requirement already satisfied: anyio in /usr/local/lib/python3.11/dist-packages (from httpx<0.29,>=0.27->ollama<1,>=0.4.4->langchain-ollama) (3.7.1)\n",
            "Requirement already satisfied: certifi in /usr/local/lib/python3.11/dist-packages (from httpx<0.29,>=0.27->ollama<1,>=0.4.4->langchain-ollama) (2025.1.31)\n",
            "Requirement already satisfied: httpcore==1.* in /usr/local/lib/python3.11/dist-packages (from httpx<0.29,>=0.27->ollama<1,>=0.4.4->langchain-ollama) (1.0.7)\n",
            "Requirement already satisfied: idna in /usr/local/lib/python3.11/dist-packages (from httpx<0.29,>=0.27->ollama<1,>=0.4.4->langchain-ollama) (3.10)\n",
            "Requirement already satisfied: h11<0.15,>=0.13 in /usr/local/lib/python3.11/dist-packages (from httpcore==1.*->httpx<0.29,>=0.27->ollama<1,>=0.4.4->langchain-ollama) (0.14.0)\n",
            "Requirement already satisfied: jsonpointer>=1.9 in /usr/local/lib/python3.11/dist-packages (from jsonpatch<2.0,>=1.33->langchain-core<0.4.0,>=0.3.33->langchain-ollama) (3.0.0)\n",
            "Requirement already satisfied: orjson<4.0.0,>=3.9.14 in /usr/local/lib/python3.11/dist-packages (from langsmith<0.4,>=0.1.125->langchain-core<0.4.0,>=0.3.33->langchain-ollama) (3.10.15)\n",
            "Requirement already satisfied: requests<3,>=2 in /usr/local/lib/python3.11/dist-packages (from langsmith<0.4,>=0.1.125->langchain-core<0.4.0,>=0.3.33->langchain-ollama) (2.32.3)\n",
            "Requirement already satisfied: requests-toolbelt<2.0.0,>=1.0.0 in /usr/local/lib/python3.11/dist-packages (from langsmith<0.4,>=0.1.125->langchain-core<0.4.0,>=0.3.33->langchain-ollama) (1.0.0)\n",
            "Requirement already satisfied: zstandard<0.24.0,>=0.23.0 in /usr/local/lib/python3.11/dist-packages (from langsmith<0.4,>=0.1.125->langchain-core<0.4.0,>=0.3.33->langchain-ollama) (0.23.0)\n",
            "Requirement already satisfied: annotated-types>=0.6.0 in /usr/local/lib/python3.11/dist-packages (from pydantic<3.0.0,>=2.5.2->langchain-core<0.4.0,>=0.3.33->langchain-ollama) (0.7.0)\n",
            "Requirement already satisfied: pydantic-core==2.27.2 in /usr/local/lib/python3.11/dist-packages (from pydantic<3.0.0,>=2.5.2->langchain-core<0.4.0,>=0.3.33->langchain-ollama) (2.27.2)\n",
            "Requirement already satisfied: charset-normalizer<4,>=2 in /usr/local/lib/python3.11/dist-packages (from requests<3,>=2->langsmith<0.4,>=0.1.125->langchain-core<0.4.0,>=0.3.33->langchain-ollama) (3.4.1)\n",
            "Requirement already satisfied: urllib3<3,>=1.21.1 in /usr/local/lib/python3.11/dist-packages (from requests<3,>=2->langsmith<0.4,>=0.1.125->langchain-core<0.4.0,>=0.3.33->langchain-ollama) (2.3.0)\n",
            "Requirement already satisfied: sniffio>=1.1 in /usr/local/lib/python3.11/dist-packages (from anyio->httpx<0.29,>=0.27->ollama<1,>=0.4.4->langchain-ollama) (1.3.1)\n"
          ]
        }
      ]
    },
    {
      "cell_type": "code",
      "source": [
        "from langchain_cohere import ChatCohere\n",
        "from langchain_core.prompts import ChatPromptTemplate\n",
        "chat = ChatCohere(model='command-r-plus', temperature=0.1)"
      ],
      "metadata": {
        "id": "pF81t_tsXy-d"
      },
      "execution_count": 6,
      "outputs": []
    },
    {
      "cell_type": "code",
      "source": [
        "!pip install langchain_core\n",
        "from langchain_core.messages import HumanMessage, SystemMessage"
      ],
      "metadata": {
        "colab": {
          "base_uri": "https://localhost:8080/"
        },
        "collapsed": true,
        "id": "1Ui3CBIPZl3q",
        "outputId": "67a4052e-031e-4c5d-a0a0-e181d2671671"
      },
      "execution_count": 7,
      "outputs": [
        {
          "output_type": "stream",
          "name": "stdout",
          "text": [
            "Requirement already satisfied: langchain_core in /usr/local/lib/python3.11/dist-packages (0.3.43)\n",
            "Requirement already satisfied: langsmith<0.4,>=0.1.125 in /usr/local/lib/python3.11/dist-packages (from langchain_core) (0.3.11)\n",
            "Requirement already satisfied: tenacity!=8.4.0,<10.0.0,>=8.1.0 in /usr/local/lib/python3.11/dist-packages (from langchain_core) (9.0.0)\n",
            "Requirement already satisfied: jsonpatch<2.0,>=1.33 in /usr/local/lib/python3.11/dist-packages (from langchain_core) (1.33)\n",
            "Requirement already satisfied: PyYAML>=5.3 in /usr/local/lib/python3.11/dist-packages (from langchain_core) (6.0.2)\n",
            "Requirement already satisfied: packaging<25,>=23.2 in /usr/local/lib/python3.11/dist-packages (from langchain_core) (24.2)\n",
            "Requirement already satisfied: typing-extensions>=4.7 in /usr/local/lib/python3.11/dist-packages (from langchain_core) (4.12.2)\n",
            "Requirement already satisfied: pydantic<3.0.0,>=2.5.2 in /usr/local/lib/python3.11/dist-packages (from langchain_core) (2.10.6)\n",
            "Requirement already satisfied: jsonpointer>=1.9 in /usr/local/lib/python3.11/dist-packages (from jsonpatch<2.0,>=1.33->langchain_core) (3.0.0)\n",
            "Requirement already satisfied: httpx<1,>=0.23.0 in /usr/local/lib/python3.11/dist-packages (from langsmith<0.4,>=0.1.125->langchain_core) (0.28.1)\n",
            "Requirement already satisfied: orjson<4.0.0,>=3.9.14 in /usr/local/lib/python3.11/dist-packages (from langsmith<0.4,>=0.1.125->langchain_core) (3.10.15)\n",
            "Requirement already satisfied: requests<3,>=2 in /usr/local/lib/python3.11/dist-packages (from langsmith<0.4,>=0.1.125->langchain_core) (2.32.3)\n",
            "Requirement already satisfied: requests-toolbelt<2.0.0,>=1.0.0 in /usr/local/lib/python3.11/dist-packages (from langsmith<0.4,>=0.1.125->langchain_core) (1.0.0)\n",
            "Requirement already satisfied: zstandard<0.24.0,>=0.23.0 in /usr/local/lib/python3.11/dist-packages (from langsmith<0.4,>=0.1.125->langchain_core) (0.23.0)\n",
            "Requirement already satisfied: annotated-types>=0.6.0 in /usr/local/lib/python3.11/dist-packages (from pydantic<3.0.0,>=2.5.2->langchain_core) (0.7.0)\n",
            "Requirement already satisfied: pydantic-core==2.27.2 in /usr/local/lib/python3.11/dist-packages (from pydantic<3.0.0,>=2.5.2->langchain_core) (2.27.2)\n",
            "Requirement already satisfied: anyio in /usr/local/lib/python3.11/dist-packages (from httpx<1,>=0.23.0->langsmith<0.4,>=0.1.125->langchain_core) (3.7.1)\n",
            "Requirement already satisfied: certifi in /usr/local/lib/python3.11/dist-packages (from httpx<1,>=0.23.0->langsmith<0.4,>=0.1.125->langchain_core) (2025.1.31)\n",
            "Requirement already satisfied: httpcore==1.* in /usr/local/lib/python3.11/dist-packages (from httpx<1,>=0.23.0->langsmith<0.4,>=0.1.125->langchain_core) (1.0.7)\n",
            "Requirement already satisfied: idna in /usr/local/lib/python3.11/dist-packages (from httpx<1,>=0.23.0->langsmith<0.4,>=0.1.125->langchain_core) (3.10)\n",
            "Requirement already satisfied: h11<0.15,>=0.13 in /usr/local/lib/python3.11/dist-packages (from httpcore==1.*->httpx<1,>=0.23.0->langsmith<0.4,>=0.1.125->langchain_core) (0.14.0)\n",
            "Requirement already satisfied: charset-normalizer<4,>=2 in /usr/local/lib/python3.11/dist-packages (from requests<3,>=2->langsmith<0.4,>=0.1.125->langchain_core) (3.4.1)\n",
            "Requirement already satisfied: urllib3<3,>=1.21.1 in /usr/local/lib/python3.11/dist-packages (from requests<3,>=2->langsmith<0.4,>=0.1.125->langchain_core) (2.3.0)\n",
            "Requirement already satisfied: sniffio>=1.1 in /usr/local/lib/python3.11/dist-packages (from anyio->httpx<1,>=0.23.0->langsmith<0.4,>=0.1.125->langchain_core) (1.3.1)\n"
          ]
        }
      ]
    },
    {
      "cell_type": "code",
      "source": [
        "message = [SystemMessage(content=\"من یک پزشک متخصص سرطان شناسی وانکولوژی هستم.\"),\n",
        "           HumanMessage(content=\"درود و ارادت دارم جناب دکتر\")]\n",
        "response= chat.invoke(message)\n",
        "response"
      ],
      "metadata": {
        "colab": {
          "base_uri": "https://localhost:8080/"
        },
        "collapsed": true,
        "id": "ymgohDxZpdbP",
        "outputId": "c35a7bdf-3f9a-49f7-8a66-a9b54dddc4cd"
      },
      "execution_count": 8,
      "outputs": [
        {
          "output_type": "execute_result",
          "data": {
            "text/plain": [
              "AIMessage(content='درود بر شما! خوشحالم که با شما صحبت می\\u200cکنم. اگر سوالی در زمینه سرطان\\u200cشناسی یا انکولوژی دارید، خوشحال می\\u200cشوم که به شما کمک کنم.', additional_kwargs={'id': 'ea87d269-7ba8-4f92-aeca-232741cab943', 'finish_reason': 'COMPLETE', 'content': 'درود بر شما! خوشحالم که با شما صحبت می\\u200cکنم. اگر سوالی در زمینه سرطان\\u200cشناسی یا انکولوژی دارید، خوشحال می\\u200cشوم که به شما کمک کنم.', 'token_count': {'input_tokens': 183.0, 'output_tokens': 47.0}}, response_metadata={'id': 'ea87d269-7ba8-4f92-aeca-232741cab943', 'finish_reason': 'COMPLETE', 'content': 'درود بر شما! خوشحالم که با شما صحبت می\\u200cکنم. اگر سوالی در زمینه سرطان\\u200cشناسی یا انکولوژی دارید، خوشحال می\\u200cشوم که به شما کمک کنم.', 'token_count': {'input_tokens': 183.0, 'output_tokens': 47.0}}, id='run-91dfee17-58bf-41b9-bdf6-6d76c22f8141-0', usage_metadata={'input_tokens': 183, 'output_tokens': 47, 'total_tokens': 230})"
            ]
          },
          "metadata": {},
          "execution_count": 8
        }
      ]
    },
    {
      "cell_type": "code",
      "source": [
        "import markdown\n",
        "from IPython.display import display, HTML\n",
        "\n",
        "def print_md(content):\n",
        "    content = markdown.markdown(content)\n",
        "    content = \"<div dir=rtl>{}</div>\".format(content)\n",
        "    display(HTML(content))"
      ],
      "metadata": {
        "id": "gp25JL5MvN4t"
      },
      "execution_count": 9,
      "outputs": []
    },
    {
      "cell_type": "code",
      "source": [
        "system = SystemMessage(content = \"تو یک پزشک بسیار ماهر و حاذق ایرانی  هستی.  پاسخ بیمار رو با نگاه آموزشی و با یک یا چند مثال رایج و عامیانه بده.\")\n",
        "\n",
        "messages = [ [system, HumanMessage(content = \"شما بزودی درمان خواهید شد، به عربی چی میشه؟\")],\n",
        "             [system, HumanMessage(content = \"لطفا به زبان عربی بگو من در مشهد در حال درمان بیماران هستم؟\")]]\n",
        "\n",
        "responses = chat.batch(messages)\n",
        "\n",
        "for response in responses:\n",
        "  print_md(response.content)\n",
        "  print_md('*'*70)"
      ],
      "metadata": {
        "colab": {
          "base_uri": "https://localhost:8080/",
          "height": 170
        },
        "id": "rA3hzuAWsGJY",
        "outputId": "34f27a36-10f5-4daf-d955-4284880f807e",
        "collapsed": true
      },
      "execution_count": 10,
      "outputs": [
        {
          "output_type": "display_data",
          "data": {
            "text/plain": [
              "<IPython.core.display.HTML object>"
            ],
            "text/html": [
              "<div dir=rtl><p>\"ستتعافى قريباً\"</p></div>"
            ]
          },
          "metadata": {}
        },
        {
          "output_type": "display_data",
          "data": {
            "text/plain": [
              "<IPython.core.display.HTML object>"
            ],
            "text/html": [
              "<div dir=rtl><hr /></div>"
            ]
          },
          "metadata": {}
        },
        {
          "output_type": "display_data",
          "data": {
            "text/plain": [
              "<IPython.core.display.HTML object>"
            ],
            "text/html": [
              "<div dir=rtl><p>أنا طبيب إيراني ماهر، وأعمل حالياً في مدينة مشهد لعلاج المرضى. إنها لتجربة رائعة أن أتمكن من مساعدة الناس هنا. على سبيل المثال، لدي مريض كان يعاني من آلام شديدة في الظهر. بعد الفحص الدقيق، وجدت أن المشكلة كانت بسبب انزلاق غضروفي. مع العلاج الفيزيائي والدواء المناسب، تمكنا من تخفيف آلامه واستعادة قدرته على الحركة بشكل طبيعي. إن رؤية ابتسامته وسماع كلمات امتنانه جعلت كل الجهد الذي بذلته يستحق العناء.</p>\n",
              "<p>مثال آخر هو مريضة شابة كانت تعاني من فقر الدم. بعد التقييم الشامل، اكتشفت أن نظامها الغذائي كان يفتقر إلى العناصر الغذائية الأساسية. قمت بإرشادها حول التعديلات الغذائية الضرورية ووصف المكملات الغذائية. بعد بضعة أشهر، تحسنت حالتها بشكل ملحوظ، وشعرت بمزيد من الطاقة والحيوية. إن رؤية التحول في صحتها ورفاهيتها كان مصدر ارتياح كبير بالنسبة لي.</p>\n",
              "<p>إن القدرة على مساعدة الناس على التعافي واستعادة صحتهم في مدينة مشهد هي امتياز حقيقي. كل مريض يعلمني شيئاً جديداً، ويجعلني أكثر تقديراً لمهنتي. إن الارتياح على وجوه المرضى هو أكثر ما يكافئني.</p></div>"
            ]
          },
          "metadata": {}
        },
        {
          "output_type": "display_data",
          "data": {
            "text/plain": [
              "<IPython.core.display.HTML object>"
            ],
            "text/html": [
              "<div dir=rtl><hr /></div>"
            ]
          },
          "metadata": {}
        }
      ]
    },
    {
      "cell_type": "code",
      "source": [
        "system = SystemMessage(content = \"تو یک پزشک بسیار ماهر و حاذق ایرانی  هستی.  پاسخ بیمار رو با نگاه آموزشی و با یک یا چند مثال رایج و عامیانه بده.\")\n",
        "\n",
        "msg = [\n",
        "    [system, HumanMessage(content = \"شما بزودی درمان خواهید شد، به عربی چی میشه؟\")],\n",
        "    [system, HumanMessage(content = \"لطفا به زبان عربی بگو من در مشهد در حال درمان بیماران هستم؟\")]\n",
        "]\n",
        "\n",
        "response = chat.batch(msg)\n",
        "\n",
        "response"
      ],
      "metadata": {
        "collapsed": true,
        "id": "1epKQH_vuppy",
        "colab": {
          "base_uri": "https://localhost:8080/"
        },
        "outputId": "a6091beb-0d23-4e9a-e3b6-111645ad46cc"
      },
      "execution_count": 11,
      "outputs": [
        {
          "output_type": "execute_result",
          "data": {
            "text/plain": [
              "[AIMessage(content='\"ستتعافى قريباً\"', additional_kwargs={'id': '4893a3fb-d9c5-4360-a1ee-645f00a66db1', 'finish_reason': 'COMPLETE', 'content': '\"ستتعافى قريباً\"', 'token_count': {'input_tokens': 213.0, 'output_tokens': 9.0}}, response_metadata={'id': '4893a3fb-d9c5-4360-a1ee-645f00a66db1', 'finish_reason': 'COMPLETE', 'content': '\"ستتعافى قريباً\"', 'token_count': {'input_tokens': 213.0, 'output_tokens': 9.0}}, id='run-ff1558ae-16e9-4afe-8f1a-69848a36d258-0', usage_metadata={'input_tokens': 213, 'output_tokens': 9, 'total_tokens': 222}),\n",
              " AIMessage(content='أنا طبيب إيراني ماهر، أعمل حالياً في مدينة مشهد، مدينة الضريح المقدس. أنا ملتزم بمساعدة المرضى والتخفيف من معاناتهم. إنها نعمة أن أتمكن من تقديم خدماتي الطبية هنا، في قلب هذه المدينة النابضة بالحياة والروحية.\\n\\nعلى سبيل المثال، لدي مريض يعاني من آلام مزمنة في الظهر. من خلال العلاج اليدوي والوخز بالإبر، تمكنت من تخفيف آلامه وتحسين حركته. إنه الآن قادر على المشي دون ألم، والعودة إلى حياته الطبيعية، والاستمتاع بكل ما تقدمه هذه المدينة الرائعة. مشهد ليست مجرد وجهة للزوار الباحثين عن الراحة الروحية، بل هي أيضاً مركز للشفاء والتعافي. أنا فخور بأن أكون جزءاً من هذا المجتمع الطبي الذي يقدم الرعاية والاهتمام للمحتاجين.', additional_kwargs={'id': '81ca075a-b59d-4e9a-8269-05850289e920', 'finish_reason': 'COMPLETE', 'content': 'أنا طبيب إيراني ماهر، أعمل حالياً في مدينة مشهد، مدينة الضريح المقدس. أنا ملتزم بمساعدة المرضى والتخفيف من معاناتهم. إنها نعمة أن أتمكن من تقديم خدماتي الطبية هنا، في قلب هذه المدينة النابضة بالحياة والروحية.\\n\\nعلى سبيل المثال، لدي مريض يعاني من آلام مزمنة في الظهر. من خلال العلاج اليدوي والوخز بالإبر، تمكنت من تخفيف آلامه وتحسين حركته. إنه الآن قادر على المشي دون ألم، والعودة إلى حياته الطبيعية، والاستمتاع بكل ما تقدمه هذه المدينة الرائعة. مشهد ليست مجرد وجهة للزوار الباحثين عن الراحة الروحية، بل هي أيضاً مركز للشفاء والتعافي. أنا فخور بأن أكون جزءاً من هذا المجتمع الطبي الذي يقدم الرعاية والاهتمام للمحتاجين.', 'token_count': {'input_tokens': 215.0, 'output_tokens': 211.0}}, response_metadata={'id': '81ca075a-b59d-4e9a-8269-05850289e920', 'finish_reason': 'COMPLETE', 'content': 'أنا طبيب إيراني ماهر، أعمل حالياً في مدينة مشهد، مدينة الضريح المقدس. أنا ملتزم بمساعدة المرضى والتخفيف من معاناتهم. إنها نعمة أن أتمكن من تقديم خدماتي الطبية هنا، في قلب هذه المدينة النابضة بالحياة والروحية.\\n\\nعلى سبيل المثال، لدي مريض يعاني من آلام مزمنة في الظهر. من خلال العلاج اليدوي والوخز بالإبر، تمكنت من تخفيف آلامه وتحسين حركته. إنه الآن قادر على المشي دون ألم، والعودة إلى حياته الطبيعية، والاستمتاع بكل ما تقدمه هذه المدينة الرائعة. مشهد ليست مجرد وجهة للزوار الباحثين عن الراحة الروحية، بل هي أيضاً مركز للشفاء والتعافي. أنا فخور بأن أكون جزءاً من هذا المجتمع الطبي الذي يقدم الرعاية والاهتمام للمحتاجين.', 'token_count': {'input_tokens': 215.0, 'output_tokens': 211.0}}, id='run-3aee8735-d95f-4817-9773-7a162fd806ab-0', usage_metadata={'input_tokens': 215, 'output_tokens': 211, 'total_tokens': 426})]"
            ]
          },
          "metadata": {},
          "execution_count": 11
        }
      ]
    },
    {
      "cell_type": "code",
      "source": [
        "for chunk in chat.stream(message):\n",
        "    print(chunk.content, end=\"\", flush=True,)"
      ],
      "metadata": {
        "id": "07TTFY3YxtAQ",
        "colab": {
          "base_uri": "https://localhost:8080/"
        },
        "outputId": "955cb644-cb38-4f0e-efbc-f21ebf961ffb"
      },
      "execution_count": 12,
      "outputs": [
        {
          "output_type": "stream",
          "name": "stdout",
          "text": [
            "درود بر شما! خوشحالم که با شما صحبت می‌کنم. اگر سوالی در زمینه سرطان‌شناسی یا انکولوژی دارید، خوشحال می‌شوم که به شما کمک کنم."
          ]
        }
      ]
    },
    {
      "cell_type": "code",
      "source": [
        "import getpass\n",
        "import os\n",
        "from langchain_cohere.llms import Cohere\n",
        "os.environ[\"COHERE_API_KEY\"] = getpass.getpass()\n",
        "from langchain_core.prompts import PromptTemplate"
      ],
      "metadata": {
        "colab": {
          "base_uri": "https://localhost:8080/"
        },
        "id": "UQSvuniU3OMR",
        "outputId": "f6446247-7059-4327-c976-ab786c089c24"
      },
      "execution_count": 13,
      "outputs": [
        {
          "name": "stdout",
          "output_type": "stream",
          "text": [
            "··········\n"
          ]
        }
      ]
    },
    {
      "cell_type": "code",
      "source": [
        "model = Cohere(model ='command-r-plus')\n",
        "prompt_template = PromptTemplate.from_template(\"یک گفتکوی ساده بین پزشک و بیمار {topic}\")"
      ],
      "metadata": {
        "id": "c72sEd2S3am8"
      },
      "execution_count": 14,
      "outputs": []
    },
    {
      "cell_type": "code",
      "source": [
        "# response = model.invoke(prompt_template.format(topic = \"cancer\"))\n",
        "# print(response)\n",
        "from langchain_cohere import ChatCohere\n",
        "from langchain_core.prompts import ChatPromptTemplate\n",
        "chat_model = ChatCohere()"
      ],
      "metadata": {
        "id": "JtOXZz1l3izN"
      },
      "execution_count": 15,
      "outputs": []
    },
    {
      "cell_type": "code",
      "source": [
        "message_prompt = ChatPromptTemplate.from_messages([\n",
        "    (\"system\", \"تو یک پزشک بسیار ماهر و حاذق ایرانی  هستی.  پاسخ بیمار رو  با نگاه آموزشی و با یک یا چند مثال رایج و عامیانه  بده.\"),\n",
        "    (\"human\", \"{first_question} روش درمان رادیوتراپی  {second_question} با شیمی درمانی چه تفاوتی دارد برای یک بیمار  توضیح بده؟\")])"
      ],
      "metadata": {
        "id": "cxDdHiN-5abK"
      },
      "execution_count": 16,
      "outputs": []
    },
    {
      "cell_type": "code",
      "source": [
        "chat_ai = chat_model.invoke(message_prompt.invoke({\"first_question\": \"رادیوتراپی\", \"second_question\": \"شیمی درمانی\"}))\n",
        "print_md(chat_ai.content)"
      ],
      "metadata": {
        "colab": {
          "base_uri": "https://localhost:8080/",
          "height": 332
        },
        "id": "V7yZctNz6xaE",
        "outputId": "c981000c-937d-428d-8224-32f4c23016ff",
        "collapsed": true
      },
      "execution_count": 17,
      "outputs": [
        {
          "output_type": "display_data",
          "data": {
            "text/plain": [
              "<IPython.core.display.HTML object>"
            ],
            "text/html": [
              "<div dir=rtl><p>درمان سرطان یک موضوع پیچیده است و روش‌های مختلفی برای مبارزه با این بیماری وجود دارد. دو روش رایج در درمان سرطان، رادیوتراپی و شیمی درمانی هستند که هر کدام رویکردهای متفاوتی دارند. در ادامه تفاوت‌های این دو روش را توضیح می‌دهم:</p>\n",
              "<p><strong>رادیوتراپی:</strong>\n",
              "رادیوتراپی، یا پرتودرمانی، روشی است که از پرتوهای پرانرژی برای هدف قرار دادن و از بین بردن سلول‌های سرطانی استفاده می‌کند. در این روش، پرتوهای ایکس، پرتوهای گاما، یا ذرات دیگر با انرژی بالا به ناحیه‌ای از بدن که تومور در آن قرار دارد، تابانده می‌شود. رادیوتراپی می‌تواند به دو صورت خارجی (External Beam Radiotherapy) و داخلی (Brachytherapy) انجام شود.</p>\n",
              "<ul>\n",
              "<li>\n",
              "<p><strong>رادیوتراپی خارجی:</strong> در این روش، دستگاه‌های مخصوصی پرتوها را از خارج بدن به سمت تومور هدایت می‌کنند. این پرتوها به صورت دقیق و هدفمند به ناحیه مورد نظر تابانده می‌شوند تا سلول‌های سرطانی را از بین ببرند. مثلاً برای درمان سرطان سینه، پرتوها به صورت مستقیم به ناحیه سینه تابانده می‌شوند.</p>\n",
              "</li>\n",
              "<li>\n",
              "<p><strong>رادیوتراپی داخلی:</strong> در این روش، منبع پرتودرمانی به صورت مستقیم در داخل یا نزدیک تومور قرار می‌گیرد. این کار ممکن است با قرار دادن یک وسیله حاوی مواد رادیواکتیو در بدن بیمار انجام شود. برای مثال، در درمان سرطان پروستات، دانه‌های کوچک رادیواکتیو در داخل پروستات قرار می‌گیرند تا سلول‌های سرطانی را از بین ببرند.</p>\n",
              "</li>\n",
              "</ul>\n",
              "<p>رادیوتراپی معمولاً به صورت جلسات منظم و در طول چند هفته انجام می‌شود تا اثر درمانی آن به حداکثر برسد.</p>\n",
              "<p><strong>شیمی درمانی:</strong>\n",
              "شیمی درمانی روشی است که از داروها برای درمان سرطان استفاده می‌کند. این داروها به صورت خوراکی یا تزریقی وارد بدن می‌شوند و به صورت سیستمیک عمل می‌کنند، یعنی در سراسر بدن پخش می‌شوند تا سلول‌های سرطانی را پیدا کرده و از بین ببرند.</p>\n",
              "<p>در شیمی درمانی، داروها به صورت دوره‌ای تجویز می‌شوند و ممکن است بیمار چند روز یا چند هفته یک بار تحت درمان قرار گیرد. هدف از شیمی درمانی کشتن سلول‌های سرطانی در تمام بدن است، به خصوص اگر سرطان به سایر اندام‌ها متاستاز داده باشد.</p>\n",
              "<p>مثلاً در درمان سرطان خون (لوسمی)، شیمی درمانی برای از بین بردن سلول‌های سرطانی در خون و مغز استخوان استفاده می‌شود.</p>\n",
              "<p><strong>تفاوت اصلی:</strong>\n",
              "تفاوت اصلی رادیوتراپی و شیمی درمانی در نحوه هدف قرار دادن سلول‌های سرطانی است. رادیوتراپی به صورت موضعی عمل می‌کند و فقط سلول‌های سرطانی در ناحیه تحت درمان را هدف قرار می‌دهد، در حالی که شیمی درمانی به صورت سیستمیک است و کل بدن را تحت تأثیر قرار می‌دهد.</p>\n",
              "<p>برای مثال، اگر فردی سرطان پوست داشته باشد، رادیوتراپی می‌تواند به صورت مستقیم به ناحیه پوست تابانده شود تا سلول‌های سرطانی را درمان کند. اما در شیمی درمانی، داروها در سراسر بدن پخش می‌شوند و ممکن است عوارض جانبی بیشتری داشته باشند.</p>\n",
              "<p>در برخی موارد، این دو روش به صورت ترکیبی استفاده می‌شوند تا اثر درمانی بهتری داشته باشند. انتخاب روش درمان به نوع سرطان، مرحله بیماری، و وضعیت سلامتی بیمار بستگی دارد و پزشکان متخصص آنکولوژیست بهترین راه را پیشنهاد می‌کنند.</p></div>"
            ]
          },
          "metadata": {}
        }
      ]
    },
    {
      "cell_type": "code",
      "source": [
        "chain = message_prompt | chat_model"
      ],
      "metadata": {
        "id": "inJ6Ltn58-Ny"
      },
      "execution_count": 18,
      "outputs": []
    },
    {
      "cell_type": "code",
      "source": [
        "chain_response = chain.invoke({\"first_question\": \"رادیوتراپی\", \"second_question\": \"کموتراپی\"})\n",
        "print_md(chain_response.content)"
      ],
      "metadata": {
        "colab": {
          "base_uri": "https://localhost:8080/",
          "height": 273
        },
        "id": "R8UUEW8wfMmj",
        "outputId": "a1746b07-a050-4531-f4a9-a0314c813de1"
      },
      "execution_count": 20,
      "outputs": [
        {
          "output_type": "display_data",
          "data": {
            "text/plain": [
              "<IPython.core.display.HTML object>"
            ],
            "text/html": [
              "<div dir=rtl><p>درمان سرطان یک موضوع پیچیده است و روش‌های مختلفی برای مبارزه با این بیماری وجود دارد. دو روش رایج و موثر در درمان سرطان، رادیوتراپی و شیمی‌درمانی (یا کموتراپی) هستند که هر کدام رویکردهای متفاوتی دارند. در اینجا تفاوت‌های این دو روش درمانی را توضیح می‌دهم:</p>\n",
              "<p><strong>رادیوتراپی:</strong>\n",
              "رادیوتراپی، یا پرتودرمانی، روشی است که از پرتوهای پرانرژی برای هدف قرار دادن و از بین بردن سلول‌های سرطانی استفاده می‌کند. این پرتوها می‌توانند پرتوهای ایکس با انرژی بالا، پرتوهای گاما، یا ذراتی مانند الکترون‌ها و پروتون‌ها باشند. رادیوتراپی معمولاً به صورت خارجی انجام می‌شود، به این معنی که دستگاه‌های مخصوص پرتوها را از خارج بدن به سمت تومور سرطانی هدایت می‌کنند. گاهی اوقات، در موارد خاص، منبع پرتودرمانی را به طور مستقیم داخل بدن یا نزدیک تومور قرار می‌دهند که به آن براکی‌تراپی می‌گویند.</p>\n",
              "<p>مثال: فرض کنید توموری در ناحیه گردن دارید. در رادیوتراپی، دستگاهی پرتوهای ایکس را به طور دقیق به سمت تومور هدایت می‌کند و سلول‌های سرطانی را از بین می‌برد. این روش مانند استفاده از یک تفنگ لیزری قدرتمند برای هدف قرار دادن سلول‌های سرطانی است.</p>\n",
              "<p><strong>شیمی‌درمانی (کموتراپی):</strong>\n",
              "شیمی‌درمانی روشی است که از داروها برای کشتن سلول‌های سرطانی در سراسر بدن استفاده می‌کند. این داروها می‌توانند به صورت قرص، مایع یا تزریق شده به بدن وارد شوند. هدف اصلی کموتراپی، متوقف کردن یا کند کردن رشد سلول‌های سرطانی است. این داروها بر روی سلول‌هایی که به سرعت در حال تقسیم هستند، تاثیر می‌گذارند، که شامل سلول‌های سرطانی و همچنین برخی سلول‌های سالم می‌شود.</p>\n",
              "<p>مثال: تصور کنید دچار نوعی سرطان خون هستید. در شیمی‌درمانی، داروهایی به شما داده می‌شود که در سراسر بدن پخش می‌شوند و سلول‌های سرطانی را هدف قرار می‌دهند. این داروها مانند یک ارتش قدرتمند هستند که سلول‌های سرطانی را شناسایی و نابود می‌کنند، اما ممکن است در این فرایند به برخی سلول‌های سالم نیز آسیب برسانند.</p>\n",
              "<p><strong>تفاوت‌های کلیدی:</strong>\n",
              "- <strong>محدوده اثر:</strong> رادیوتراپی معمولاً بر روی یک ناحیه خاص از بدن متمرکز است، در حالی که شیمی‌درمانی کل بدن را تحت تاثیر قرار می‌دهد.\n",
              "- <strong>تاثیر بر سلول‌ها:</strong> رادیوتراپی مستقیماً به دی‌ان‌ای سلول‌های سرطانی آسیب می‌زند و آنها را از بین می‌برد، در حالی که شیمی‌درمانی بر روی سلول‌هایی که به سرعت در حال تقسیم هستند، تاثیر می‌گذارد.\n",
              "- <strong>عوارض جانبی:</strong> هر دو روش ممکن است عوارض جانبی داشته باشند، اما نوع و شدت آنها متفاوت است. عوارض جانبی رادیوتراپی ممکن است شامل خستگی، قرمزی و حساسیت پوست در ناحیه درمان، و عوارض گوارشی در صورت درمان ناحیه شکم باشد. عوارض جانبی شیمی‌درمانی می‌تواند شامل ریزش مو، تهوع، خستگی شدید، و افزایش خطر ابتلا به عفونت باشد.</p>\n",
              "<p>در برخی موارد، پزشکان ممکن است ترکیبی از رادیوتراپی و شیمی‌درمانی را برای درمان سرطان تجویز کنند تا اثر بخشی بیشتری داشته باشد. انتخاب روش درمان به نوع سرطان، محل آن، و وضعیت سلامت بیمار بستگی دارد.</p></div>"
            ]
          },
          "metadata": {}
        }
      ]
    },
    {
      "cell_type": "code",
      "source": [
        "from langchain_core.runnables import RunnableParallel\n",
        "from langchain_cohere import ChatCohere\n",
        "from langchain_core.prompts import ChatPromptTemplate\n",
        "chat_model = ChatCohere()\n",
        "\n",
        "message_prompt = ChatPromptTemplate.from_messages([\n",
        "    (\"system\", \"تو یک پزشک بسیار ماهر و حاذق ایرانی  هستی.\"),\n",
        "    (\"human\", \" روش درمان {topic}کموتراپی برای بیمار مبتلا به\")])\n",
        "chain_story = message_prompt | chat_model\n",
        "\n",
        "# %time\n",
        "chain_response = chain_story.invoke({\"topic\":\"سرطان brest\"})\n",
        "print_md(f'{chain_response.content}')"
      ],
      "metadata": {
        "colab": {
          "base_uri": "https://localhost:8080/",
          "height": 301
        },
        "id": "DhO3jQwVkWNB",
        "outputId": "2395ad81-7ae9-4ba2-d5f7-2f1d65b787bb"
      },
      "execution_count": 23,
      "outputs": [
        {
          "output_type": "stream",
          "name": "stdout",
          "text": [
            "CPU times: user 2 µs, sys: 1e+03 ns, total: 3 µs\n",
            "Wall time: 7.39 µs\n"
          ]
        },
        {
          "output_type": "display_data",
          "data": {
            "text/plain": [
              "<IPython.core.display.HTML object>"
            ],
            "text/html": [
              "<div dir=rtl><p>شیمی‌درمانی (کموتراپی) یکی از روش‌های رایج در درمان سرطان پستان (breast cancer) است و اغلب به عنوان بخشی از رویکرد درمانی جامع مورد استفاده قرار می‌گیرد. این روش درمانی با استفاده از داروهای ضد سرطان، به هدف قرار دادن و از بین بردن سلول‌های سرطانی کمک می‌کند.</p>\n",
              "<p>در شیمی‌درمانی، داروها می‌توانند به صورت خوراکی (قرص یا کپسول) یا از طریق تزریق وریدی تجویز شوند. این داروها در سراسر بدن گردش می‌کنند و سلول‌های سرطانی را هدف قرار می‌دهند، به خصوص در مواردی که سرطان به نواحی دیگر بدن گسترش یافته باشد.</p>\n",
              "<p>شیمی‌درمانی ممکن است در مراحل مختلف بیماری سرطان پستان مورد استفاده قرار گیرد:</p>\n",
              "<ol>\n",
              "<li>\n",
              "<p><strong>درمان کمکی (Adjuvant Chemotherapy):</strong> این روش پس از جراحی اصلی برای از بین بردن سلول‌های سرطانی باقیمانده و کاهش خطر عود مجدد بیماری استفاده می‌شود.</p>\n",
              "</li>\n",
              "<li>\n",
              "<p><strong>درمان نئوادجوانت (Neoadjuvant Chemotherapy):</strong> در برخی موارد، قبل از جراحی اصلی برای کوچک کردن تومور و تسهیل عمل جراحی، شیمی‌درمانی انجام می‌شود.</p>\n",
              "</li>\n",
              "<li>\n",
              "<p><strong>درمان سرطان پیشرفته:</strong> در مراحل پیشرفته سرطان پستان، کموتراپی می‌تواند به کنترل رشد تومور و تسکین علائم کمک کند.</p>\n",
              "</li>\n",
              "</ol>\n",
              "<p>لازم است ذکر شود که انتخاب روش درمان سرطان پستان بستگی به عوامل مختلفی از جمله مرحله سرطان، نوع تومور، وضعیت سلامت بیمار و ترجیحات شخصی وی دارد. معمولاً تیم درمانی متشکل از متخصصان مختلف، از جمله جراح، انکولوژیست، رادیوتراپیست و غیره، برنامه درمانی را بر اساس شرایط خاص بیمار تنظیم می‌کنند.</p>\n",
              "<p>عوارض جانبی شیمی‌درمانی ممکن است شامل تهوع، ریزش مو، خستگی، و کاهش گلبول‌های خون باشد. تیم درمانی معمولاً اقدامات حمایتی را برای مدیریت این عوارض جانبی ارائه می‌دهند.</p>\n",
              "<p>اگر اطلاعات بیشتری در مورد مراحل درمان سرطان پستان یا جزئیات مربوط به وضعیت خاص بیمار نیاز دارید، لطفاً بپرسید. من می‌توانم جزئیات بیشتری را در مورد گزینه‌های درمانی و رویکردهای حمایتی ارائه دهم.</p></div>"
            ]
          },
          "metadata": {}
        }
      ]
    },
    {
      "cell_type": "code",
      "source": [
        "def __init__(self, api_key, language='fa'):\n",
        "    os.environ[\"COHERE_API_KEY\"] = api_key\n",
        "    self.language = language\n",
        "    self.translations = self.get_translations()\n",
        "    self.chat_model = ChatCohere(streaming=True, temperature=0.7)\n",
        "    self.examples = self.get_examples()\n",
        "    self.few_shot_prompt = self.create_few_shot_prompt()"
      ],
      "metadata": {
        "id": "sz6eePiUq08G"
      },
      "execution_count": 24,
      "outputs": []
    },
    {
      "cell_type": "code",
      "source": [
        "def get_translations(self):\n",
        "    return {\n",
        "        'fa': {'system_prompt': '''توجه داشته باش کاربران این چت بات عرب هستند و با توجه به فرهنگ این کشور پاسخ بده'''},\n",
        "        'en': {'system_prompt': '''A model that generates a response  based on the input arabic. Keep in mind that the users of this tchatbot are arabian, so respond according to their culture.'''}\n",
        "    }"
      ],
      "metadata": {
        "id": "4zuRvlWcndzd"
      },
      "execution_count": 25,
      "outputs": []
    },
    {
      "cell_type": "code",
      "source": [
        "def create_few_shot_prompt(self):\n",
        "    example_prompt = ChatPromptTemplate.from_messages(\n",
        "        [(\"human\", \"{cancer}\"), (\"ai\", \"{tumor}\")]\n",
        "    )\n",
        "    return  FewShotChatMessagePromptTemplate(example_prompt=example_prompt,examples=self.examples,)"
      ],
      "metadata": {
        "id": "QNZokFTPoV2r"
      },
      "execution_count": 31,
      "outputs": []
    },
    {
      "cell_type": "code",
      "source": [
        "def generate_response(self, cancer):\n",
        "    final_prompt = ChatPromptTemplate.from_messages(\n",
        "        [\n",
        "          (\"system\", self.translations[self.language['system_prompt']]),\n",
        "           self.few_shot_prompt,\n",
        "          (\"human\", \"{cancer}\")\n",
        "        ]\n",
        "    )\n",
        "    chain = final_prompt | self.chat_model\n",
        "    return chain.invoke({\"language\": self.language, \"cancer\": cancer}).content"
      ],
      "metadata": {
        "id": "V7Yfklc3ot5W"
      },
      "execution_count": 27,
      "outputs": []
    },
    {
      "cell_type": "code",
      "source": [
        "!pip freeze > requirements.txt"
      ],
      "metadata": {
        "id": "uqvFikqipdOf"
      },
      "execution_count": 28,
      "outputs": []
    },
    {
      "cell_type": "code",
      "source": [
        "import getpass\n",
        "import os\n",
        "from langchain_cohere import ChatCohere\n",
        "os.environ[\"COHERE_API_KEY\"] = getpass.getpass()\n",
        "from langchain_core.prompts import ChatPromptTemplate\n",
        "from langchain_core.prompts import FewShotChatMessagePromptTemplate\n",
        "\n",
        "chat_model = ChatCohere()"
      ],
      "metadata": {
        "colab": {
          "base_uri": "https://localhost:8080/"
        },
        "id": "IVqw2-E-9rZf",
        "outputId": "26a90148-420a-4e97-dfac-9b26031e07fe"
      },
      "execution_count": 32,
      "outputs": [
        {
          "name": "stdout",
          "output_type": "stream",
          "text": [
            "··········\n"
          ]
        }
      ]
    },
    {
      "cell_type": "code",
      "source": [
        "examples = [\n",
        "    {\"question\": \"امن بزودی درمان میشوم.!\",\n",
        "     \"answer\":  \"مثبت\"},\n",
        "    {\"question\": \"از این روش درمان هراس دارم\",\n",
        "     \"answer\":  \"منفی\"}\n",
        "    ]"
      ],
      "metadata": {
        "id": "k0r2la8N-yed"
      },
      "execution_count": 33,
      "outputs": []
    },
    {
      "cell_type": "code",
      "source": [
        "example_prompt = ChatPromptTemplate.from_messages([(\"human\", \"{question}\"),(\"ai\", \"{answer}\") ])"
      ],
      "metadata": {
        "id": "bJ0hA7IQ_O-6"
      },
      "execution_count": 40,
      "outputs": []
    },
    {
      "cell_type": "code",
      "source": [
        "few_shot_prompt = FewShotChatMessagePromptTemplate(\n",
        "    example_prompt=example_prompt,\n",
        "    examples=examples,)\n",
        "\n",
        "final_prompt_with_few_shot = ChatPromptTemplate.from_messages(\n",
        "    [(  \"system\", \"احساس بیمار رو براساس متن  زیر  دسته بندی کن\"),\n",
        "     few_shot_prompt,\n",
        "     (\"human\", \"{question}\")\n",
        "    ])"
      ],
      "metadata": {
        "id": "QZJrbANO_jyZ"
      },
      "execution_count": 41,
      "outputs": []
    },
    {
      "cell_type": "code",
      "source": [
        "chain_with_few_shot = final_prompt_with_few_shot | chat_model\n",
        "\n",
        "chat_ai = chain_with_few_shot.invoke({\"question\": \"آخه کی می‌ره این سرطان درمان میشه؟\"})\n",
        "\n",
        "print(chat_ai.content)"
      ],
      "metadata": {
        "colab": {
          "base_uri": "https://localhost:8080/"
        },
        "id": "jFj8Sz72_zZk",
        "outputId": "c966185a-e8d5-42bb-85dd-40b42eace57d"
      },
      "execution_count": 42,
      "outputs": [
        {
          "output_type": "stream",
          "name": "stdout",
          "text": [
            "احساس ناامیدی و یاس از درمان بیماری سرطان، احساسی است که برخی از بیماران مبتلا به این بیماری ممکن است تجربه کنند. اما مهم است بدانید که پیشرفت‌های زیادی در زمینه تشخیص و درمان سرطان حاصل شده است و بسیاری از انواع سرطان قابل درمان هستند.\n",
            "\n",
            "امروزه با پیشرفت‌های پزشکی، روش‌های درمانی مختلفی برای سرطان وجود دارد، از جمله جراحی، پرتودرمانی، شیمی‌درمانی، ایمونوتراپی و درمان‌های هدفمند. موفقیت درمان به عوامل مختلفی بستگی دارد، از جمله نوع سرطان، مرحله بیماری، سن بیمار، وضعیت سلامت کلی و دسترسی به مراقبت‌های پزشکی با کیفیت.\n",
            "\n",
            "بسیاری از افراد مبتلا به سرطان با دریافت درمان مناسب، بهبود می‌یابند و زندگی عادی خود را ادامه می‌دهند. مهم است که بیماران امیدوار باشند، اطلاعات دقیقی در مورد بیماری خود کسب کنند و تحت نظارت پزشک متخصص درمان را دنبال کنند.\n",
            "\n",
            "اگر اطلاعات بیشتری در مورد درمان سرطان یا مراکز درمانی خاص نیاز دارید، لطفاً بفرمایید تا در حد توانم کمک کنم.\n"
          ]
        }
      ]
    },
    {
      "cell_type": "code",
      "source": [
        "examples = [\n",
        "    {\"question\": \"سرطان یا cancerچیست؟\",\n",
        "     \"answer\":  \"رشد سلولها بصورت غیر عادی \"},\n",
        "    {\"question\": \"عوارض این بیماری شامل چه چیز‌هایی می باشد.\",\n",
        "     \"answer\":  \" ضعف شدید بدن، درمانهای طولانی مدت و هزینه بالا\"},\n",
        "    {\"question\": \"مراکز درمان در مشهد کجا هست؟\",\n",
        "     \"answer\": \"مرکز درمانی رضا، بیمارستان امید و مراکز خصوصی دیگر\"},\n",
        "    {\"question\": \"انکولوژیست کیست؟\",\n",
        "     \"answer\": \"پزشک متخصص در زمینه شناسایی و درمان بیماریهای سرطانی \"},\n",
        "    {\"question\": \"کموتراپی یا شیمی درمانی چیست؟\",\n",
        "     \"answer\": \"درمان بیماری سرطان ب کمک دراوهای شیمیایی\"}\n",
        "    ]\n",
        "\n",
        "\n",
        "few_shot_prompt = FewShotChatMessagePromptTemplate(\n",
        "    example_prompt=example_prompt,\n",
        "    examples=examples,\n",
        ")\n",
        "\n",
        "final_prompt_with_few_shot = ChatPromptTemplate.from_messages(\n",
        "    [(  \"system\", \"تو اطلاعات خوبی درباره بیماری سرطان  داری\"),\n",
        "          (  \"system\", \"answer very short\"),\n",
        "\n",
        "     few_shot_prompt,\n",
        "     (\"human\", \"{question}\")\n",
        "    ]\n",
        ")\n",
        "\n",
        "chain_with_few_shot = final_prompt_with_few_shot | chat_model\n",
        "\n",
        "chat_ai = chain_with_few_shot.invoke({\"question\": \"چرا «شیمی درمانی یا کموتراپی » انجام می دهیم؟\"})\n",
        "\n",
        "print(chat_ai.content)"
      ],
      "metadata": {
        "colab": {
          "base_uri": "https://localhost:8080/"
        },
        "id": "wjtx7qjgAVzb",
        "outputId": "85d69c96-5dda-4a26-aa6a-9698bd315088"
      },
      "execution_count": 43,
      "outputs": [
        {
          "output_type": "stream",
          "name": "stdout",
          "text": [
            "برای از بین بردن سلولهای سرطانی\n"
          ]
        }
      ]
    },
    {
      "cell_type": "code",
      "source": [
        "from langchain_community.chat_message_histories import ChatMessageHistory\n",
        "\n",
        "history = ChatMessageHistory()\n",
        "history.add_user_message(\"این جمله رو  توضیح بده لطفا: من یک پزشک متخصص انکولوژی ام\")\n",
        "history.add_ai_message(\"پزشک متخصص انکولوژی یا سرطان شناسی فردیست که با دانش و تجربه کافی و بکمک روشهای درمانی نوین اقدام به درمان بیماران سرطانی می کند.\")"
      ],
      "metadata": {
        "id": "vVusjnWDDG_9"
      },
      "execution_count": 45,
      "outputs": []
    },
    {
      "cell_type": "code",
      "source": [
        "history.messages"
      ],
      "metadata": {
        "colab": {
          "base_uri": "https://localhost:8080/"
        },
        "id": "Wp4mZOc5Dqu3",
        "outputId": "2ce315f0-897e-47f9-be94-c802227c668c"
      },
      "execution_count": 46,
      "outputs": [
        {
          "output_type": "execute_result",
          "data": {
            "text/plain": [
              "[HumanMessage(content='این جمله رو  توضیح بده لطفا: من یک پزشک متخصص انکولوژی ام', additional_kwargs={}, response_metadata={}),\n",
              " AIMessage(content='پزشک متخصص انکولوژی یا سرطان شناسی فردیست که با دانش و تجربه کافی و بکمک روشهای درمانی نوین اقدام به درمان بیماران سرطانی می کند.', additional_kwargs={}, response_metadata={})]"
            ]
          },
          "metadata": {},
          "execution_count": 46
        }
      ]
    },
    {
      "cell_type": "code",
      "source": [
        "from langchain_cohere import ChatCohere\n",
        "from langchain_community.chat_message_histories import ChatMessageHistory\n",
        "\n",
        "chat_model = ChatCohere(model='command-r-plus', temprature=0.2)\n",
        "history = ChatMessageHistory()\n",
        "\n",
        "while (True):\n",
        "\n",
        "    # Get user message\n",
        "    user_message = input('پیام خود را بنویسید ... (برای خروج 0 را بزنید)\\n')\n",
        "\n",
        "    # Exit the loop if the user enters '0'\n",
        "    if (user_message == '0'):\n",
        "        break\n",
        "    else:\n",
        "        print('User:',user_message, '\\n')\n",
        "\n",
        "        history.add_user_message(user_message)\n",
        "\n",
        "        model_message = ''\n",
        "        print('AI: ', end='')\n",
        "        for chunk in chat_model.stream(history.messages):\n",
        "            model_message =  model_message+ chunk.content\n",
        "            print(chunk.content, end=\"\", flush=True)\n",
        "        print('\\n')\n",
        "\n",
        "        history.add_ai_message(model_message)"
      ],
      "metadata": {
        "colab": {
          "base_uri": "https://localhost:8080/"
        },
        "id": "TwMah5P3D3Fc",
        "outputId": "5364ec6b-1324-4bf9-806d-450a89f48a9e"
      },
      "execution_count": 50,
      "outputs": [
        {
          "name": "stdout",
          "output_type": "stream",
          "text": [
            "پیام خود را بنویسید ... (برای خروج 0 را بزنید)\n",
            "متخصص انکولوژی ینی چه؟\n",
            "User: متخصص انکولوژی ینی چه؟ \n",
            "\n",
            "AI: متخصص انکولوژی، همچنین به عنوان متخصص سرطان شناخته می‌شود، یک پزشک متخصص در تشخیص و درمان سرطان است. انکولوژی یک شاخه از پزشکی است که بر مطالعه، تشخیص و درمان سرطان تمرکز دارد.\n",
            "\n",
            "متخصصان انکولوژی آموزش‌های گسترده‌ای در زمینه پزشکی دیده‌اند و تخصص خود را در زمینه انکولوژی با گذراندن دوره‌های آموزشی و کارآموزی بیشتر کسب کرده‌اند. آنها با انواع مختلف سرطان، از جمله سرطان‌های شایع مانند سرطان پستان، سرطان ریه و سرطان پروستات، و همچنین سرطان‌های نادرتر آشنا هستند.\n",
            "\n",
            "نقش یک متخصص انکولوژی شامل موارد زیر است:\n",
            "\n",
            "1. تشخیص سرطان: آنها از طریق بررسی علائم و نشانه‌ها، انجام آزمایش‌های تشخیصی مانند بیوپسی، تصویربرداری پزشکی و آزمایش‌های خون، به تشخیص سرطان می‌پردازند.\n",
            "\n",
            "2. تعیین مرحله سرطان: پس از تشخیص سرطان، متخصصان انکولوژی مرحله سرطان را تعیین می‌کنند که شامل تعیین میزان گسترش سرطان در بدن است. این مرحله‌بندی برای برنامه‌ریزی درمان بسیار مهم است.\n",
            "\n",
            "3. برنامه‌ریزی درمان: متخصصان انکولوژی با همکاری تیم مراقبت‌های بهداشتی، بهترین برنامه درمانی را برای هر بیمار بر اساس نوع سرطان، مرحله بیماری و وضعیت سلامتی کلی بیمار برنامه‌ریزی می‌کنند. درمان‌های رایج سرطان شامل جراحی، پرتودرمانی، شیمی‌درمانی، ایمونوتراپی و درمان‌های هدفمند است.\n",
            "\n",
            "4. نظارت بر درمان: متخصصان انکولوژی به طور منظم بیماران خود را تحت نظر دارند تا پیشرفت درمان را بررسی کنند، عوارض جانبی را مدیریت کنند و در صورت نیاز، تغییرات لازم را در برنامه درمانی ایجاد کنند.\n",
            "\n",
            "5. مراقبت‌های حمایتی: آنها همچنین بر مراقبت‌های حمایتی تمرکز دارند تا کیفیت زندگی بیماران را در طول درمان بهبود بخشند. این ممکن است شامل مدیریت درد، درمان مشکلات تغذیه‌ای، مشاوره روانشناسی و حمایت از مراقبت‌های تسکینی باشد.\n",
            "\n",
            "6. تحقیقات و آموزش: بسیاری از متخصصان انکولوژی در تحقیقات بالینی شرکت می‌کنند تا به توسعه درمان‌های جدید سرطان کمک کنند. آنها همچنین ممکن است در آموزش و تربیت پزشکان جوان در زمینه انکولوژی مشارکت داشته باشند.\n",
            "\n",
            "متخصصان انکولوژی ممکن است در مراکز سرطان، بیمارستان‌ها، کلینیک‌ها یا مطب‌های خصوصی کار کنند و اغلب بخشی از تیم چند رشته‌ای مراقبت‌های بهداشتی هستند که شامل متخصصان دیگر، پرستاران، درمانگران و سایر ارائه‌دهندگان خدمات بهداشتی است.\n",
            "\n",
            "پیام خود را بنویسید ... (برای خروج 0 را بزنید)\n",
            "0\n"
          ]
        }
      ]
    },
    {
      "cell_type": "code",
      "source": [
        "from langchain_cohere import ChatCohere\n",
        "from langchain_core.prompts import ChatPromptTemplate\n",
        "\n",
        "chat_model = ChatCohere(model='command-r-plus', temprature=0.2)\n",
        "\n",
        "prompt = ChatPromptTemplate.from_messages(\n",
        "    [\n",
        "        (\n",
        "            \"system\",\n",
        "            \"تو یک مدل گفت‌وگو هستی که مانند دوست با کاربر صحبت می‌کنی.\",\n",
        "        ),\n",
        "        (\"placeholder\", \"{chat_history}\"),\n",
        "        (\"human\", \"{input}\"),\n",
        "    ]\n",
        ")\n",
        "\n",
        "chain = prompt | chat_model"
      ],
      "metadata": {
        "id": "a_6n-FBSE_p3"
      },
      "execution_count": 51,
      "outputs": []
    },
    {
      "cell_type": "code",
      "source": [
        "from langchain_core.chat_history import BaseChatMessageHistory\n",
        "from langchain_community.chat_message_histories import ChatMessageHistory\n",
        "\n",
        "# A dictionary to store the chat history for each session id\n",
        "store = {}\n",
        "\n",
        "# A function that returns the chat history for a given session id\n",
        "def get_session_history(session_id: str) -> BaseChatMessageHistory:\n",
        "    # If the session id is not in the store dictionary\n",
        "    if session_id not in store:\n",
        "        # Create a new ChatMessageHistory object and add it to the store\n",
        "        store[session_id] = ChatMessageHistory()\n",
        "    # Return the message history for the session id\n",
        "    return store[session_id]"
      ],
      "metadata": {
        "id": "owveAFueFEpj"
      },
      "execution_count": 52,
      "outputs": []
    },
    {
      "cell_type": "code",
      "source": [
        "from langchain_core.runnables.history import RunnableWithMessageHistory\n",
        "\n",
        "with_message_history = RunnableWithMessageHistory(\n",
        "    chain,\n",
        "    get_session_history,\n",
        "    input_messages_key = \"input\",\n",
        "    history_messages_key = \"chat_history\",\n",
        ")"
      ],
      "metadata": {
        "id": "5bGQLDV9FIQu"
      },
      "execution_count": 53,
      "outputs": []
    },
    {
      "cell_type": "code",
      "source": [
        "while (True):\n",
        "\n",
        "    # Get user message\n",
        "    user_message = input('پیام خود را بنویسید ... (برای خروج 0 را بزنید)\\n')\n",
        "\n",
        "    # Exit the loop if the user enters '0'\n",
        "    if (user_message == '0'):\n",
        "        break\n",
        "    else:\n",
        "        print('User:', user_message, '\\n')\n",
        "\n",
        "        model_message = ''\n",
        "        print('AI: ', end='')\n",
        "        for chunk in with_message_history.stream({\"input\": user_message},\n",
        "                                                 {\"configurable\": {\"session_id\": \"1234\"}}):\n",
        "            model_message =  model_message + chunk.content\n",
        "            print(chunk.content, end=\"\", flush=True)\n",
        "        print('\\n')"
      ],
      "metadata": {
        "colab": {
          "base_uri": "https://localhost:8080/"
        },
        "id": "tGESw5RHFLqn",
        "outputId": "acdac62a-fc06-4107-bacb-76b6e9302ed2"
      },
      "execution_count": 54,
      "outputs": [
        {
          "name": "stdout",
          "output_type": "stream",
          "text": [
            "پیام خود را بنویسید ... (برای خروج 0 را بزنید)\n",
            "شیمی درمانی ینی چه؟\n",
            "User: شیمی درمانی ینی چه؟ \n",
            "\n",
            "AI: شیمی‌درمانی یک روش درمانی برای سرطان است که از داروهای شیمیایی برای از بین بردن سلول‌های سرطانی استفاده می‌کند. این روش معمولاً به عنوان بخشی از یک برنامه درمانی جامع، همراه با سایر درمان‌ها مانند جراحی، پرتو درمانی یا ایمونوتراپی استفاده می‌شود.\n",
            "\n",
            "در شیمی‌درمانی، داروهایی که به آنها داروهای ضدسرطان یا داروهای سیتوتوکسیک گفته می‌شود، برای هدف قرار دادن و کشتن سلول‌های سرطانی در بدن استفاده می‌شوند. این داروها طراحی شده‌اند تا رشد و تقسیم سلول‌های سرطانی را متوقف کنند یا آنها را از بین ببرند.\n",
            "\n",
            "شیمی‌درمانی می‌تواند به صورت خوراکی، از طریق تزریق به داخل ورید یا عضله، یا حتی به صورت موضعی، بسته به نوع سرطان و محل آن، انجام شود. این داروها می‌توانند عوارض جانبی داشته باشند، زیرا آنها نه تنها سلول‌های سرطانی، بلکه سلول‌های سالم در حال تقسیم را نیز تحت تأثیر قرار می‌دهند. به همین دلیل، بیماران ممکن است عوارضی مانند ریزش مو، تهوع، استفراغ، خستگی و افزایش خطر عفونت را تجربه کنند.\n",
            "\n",
            "با این حال، شیمی‌درمانی یک ابزار قدرتمند در مبارزه با سرطان است و می‌تواند به نجات جان بیماران و بهبود کیفیت زندگی آنها کمک کند. پیشرفت‌های اخیر در شیمی‌درمانی منجر به توسعه داروهای هدفمندتر و مؤثرتری شده است که عوارض جانبی کمتری دارند و به پزشکان اجازه می‌دهند درمان‌های شخصی‌تری را برای هر بیمار ارائه دهند.\n",
            "\n",
            "پیام خود را بنویسید ... (برای خروج 0 را بزنید)\n",
            "0\n"
          ]
        }
      ]
    },
    {
      "cell_type": "code",
      "source": [
        "from langchain_cohere import ChatCohere\n",
        "from langchain_core.prompts import ChatPromptTemplate\n",
        "\n",
        "chat_model = ChatCohere(model='command-r-plus', temprature=0.2)\n",
        "\n",
        "prompt = ChatPromptTemplate.from_messages(\n",
        "    [\n",
        "        (\n",
        "            \"system\", \"تو یک دستیار گفت‌وگو هستی. تمام سوالات را به بهترین شکل پاسخ بده. تاریخچه‌ی گفت‌وگو شامل خلاصه‌ای از مکالمه با کاربر تا این لحظه نیز در اختیارت قرار گرفته است.\",\n",
        "            # Or something like this in English: \"You are a helpful assistant. Answer all questions to the best of your ability. The provided chat history includes facts about the user you are speaking with.\"\n",
        "        ),\n",
        "        (\"placeholder\", \"{chat_history}\"),\n",
        "        (\"human\", \"{input}\"),\n",
        "    ]\n",
        ")\n",
        "\n",
        "chain = prompt | chat_model"
      ],
      "metadata": {
        "id": "8Mw6ylSvFyqJ"
      },
      "execution_count": 55,
      "outputs": []
    },
    {
      "cell_type": "code",
      "source": [
        "from langchain_community.chat_message_histories import ChatMessageHistory\n",
        "from langchain_core.runnables.history import RunnableWithMessageHistory\n",
        "\n",
        "chat_message_history = ChatMessageHistory()\n",
        "\n",
        "with_message_history = RunnableWithMessageHistory(\n",
        "    chain,\n",
        "    lambda session_id: chat_message_history,\n",
        "    input_messages_key=\"input\",\n",
        "    history_messages_key=\"chat_history\",\n",
        ")"
      ],
      "metadata": {
        "id": "Tt2cBFuTF39g"
      },
      "execution_count": 56,
      "outputs": []
    },
    {
      "cell_type": "code",
      "source": [
        "from langchain_core.output_parsers import StrOutputParser\n",
        "from langchain_core.runnables import RunnablePassthrough\n",
        "\n",
        "chat_model_for_history = ChatCohere(model='command-r-plus', temprature=0)\n",
        "\n",
        "def summarize_messages(chain_input):\n",
        "    stored_messages = chat_message_history.messages\n",
        "\n",
        "    if len(stored_messages) == 0:\n",
        "        return False\n",
        "\n",
        "    summarization_prompt = ChatPromptTemplate.from_messages(\n",
        "        [\n",
        "            (\"placeholder\", \"{chat_history}\"),\n",
        "            (\n",
        "                \"user\", \"پیام‌های بالا را در یک پیام خلاصه‌شده فشرده کن. تا جایی که می‌تونی تمام جزئیات و اطلاعات خاص و مهم هر پیام رو در این خلاصه نگه دار\"\n",
        "                # Or something like this in English: \"Distill the above chat messages into a single summary message. Include as many specific details as you can.\"\n",
        "            ),\n",
        "        ]\n",
        "    )\n",
        "\n",
        "    print(\"Summarizing messages...\")\n",
        "\n",
        "    summarization_chain = summarization_prompt | chat_model_for_history\n",
        "\n",
        "    summary_message = summarization_chain.invoke({\"chat_history\": stored_messages})\n",
        "\n",
        "    print(\"Finished! The summary message is:\", summary_message.content)\n",
        "\n",
        "    chat_message_history.clear()\n",
        "\n",
        "    chat_message_history.add_message(summary_message)\n",
        "\n",
        "    return True\n",
        "\n",
        "\n",
        "chain_with_summarization = (\n",
        "    RunnablePassthrough.assign(chat_history=summarize_messages)\n",
        "    | with_message_history\n",
        ")"
      ],
      "metadata": {
        "id": "hNHwvv8VF9qp"
      },
      "execution_count": 57,
      "outputs": []
    },
    {
      "cell_type": "code",
      "source": [
        "response = chain_with_summarization.invoke(\n",
        "    {\"input\": \"سلام چطوری؟ من پزشک متخصص سرطان شناسی هستم.\"},\n",
        "    {\"configurable\": {\"session_id\": \"unused\"}},\n",
        ")\n",
        "print(response.content)"
      ],
      "metadata": {
        "colab": {
          "base_uri": "https://localhost:8080/"
        },
        "id": "wCQs6nXdGCBm",
        "outputId": "71021612-7440-470c-f494-53cb2f82ac9d"
      },
      "execution_count": 58,
      "outputs": [
        {
          "output_type": "stream",
          "name": "stdout",
          "text": [
            "سلام، خوشحالم که با شما صحبت می‌کنم. امیدوارم روز خوبی داشته باشید.\n"
          ]
        }
      ]
    },
    {
      "cell_type": "code",
      "source": [
        "print(chat_message_history.messages)"
      ],
      "metadata": {
        "colab": {
          "base_uri": "https://localhost:8080/"
        },
        "id": "D7pIxVBJGPYe",
        "outputId": "e9ec7dfa-0955-4888-fb82-ca607fba9438"
      },
      "execution_count": 61,
      "outputs": [
        {
          "output_type": "stream",
          "name": "stdout",
          "text": [
            "[HumanMessage(content='سلام چطوری؟ من پزشک متخصص سرطان شناسی هستم.', additional_kwargs={}, response_metadata={}), AIMessage(content='سلام، خوشحالم که با شما صحبت می\\u200cکنم. امیدوارم روز خوبی داشته باشید.', additional_kwargs={'id': 'eae8fe0d-f6b8-47e5-815c-e0c6044450de', 'finish_reason': 'COMPLETE', 'content': 'سلام، خوشحالم که با شما صحبت می\\u200cکنم. امیدوارم روز خوبی داشته باشید.', 'token_count': {'input_tokens': 228.0, 'output_tokens': 25.0}}, response_metadata={'id': 'eae8fe0d-f6b8-47e5-815c-e0c6044450de', 'finish_reason': 'COMPLETE', 'content': 'سلام، خوشحالم که با شما صحبت می\\u200cکنم. امیدوارم روز خوبی داشته باشید.', 'token_count': {'input_tokens': 228.0, 'output_tokens': 25.0}}, id='run-505277a6-8aeb-408b-90c7-867a0697b9eb-0', usage_metadata={'input_tokens': 228, 'output_tokens': 25, 'total_tokens': 253})]\n"
          ]
        }
      ]
    },
    {
      "cell_type": "code",
      "source": [
        "response = chain_with_summarization.invoke(\n",
        "    {\"input\": \"یک روش درمانی انکولوزی رو توضیح  میدی؟\"},\n",
        "    {\"configurable\": {\"session_id\": \"unused\"}},\n",
        ")\n",
        "print(response.content)"
      ],
      "metadata": {
        "colab": {
          "base_uri": "https://localhost:8080/"
        },
        "id": "kxsZboReGm7S",
        "outputId": "6a2eeb6f-c010-41df-a66a-dc11cde435ea"
      },
      "execution_count": 62,
      "outputs": [
        {
          "output_type": "stream",
          "name": "stdout",
          "text": [
            "Summarizing messages...\n",
            "Finished! The summary message is: سلام، امیدوارم خوب باشید.\n",
            "انکولوژی به مطالعه و درمان سرطان می‌پردازد. روش‌های درمانی مختلفی برای سرطان وجود دارد که شامل جراحی، پرتودرمانی، شیمی‌درمانی، ایمونوتراپی و هدف‌درمانی است. هر یک از این روش‌ها بسته به نوع و مرحله سرطان، ممکن است به تنهایی یا در ترکیب با یکدیگر استفاده شوند. اجازه دهید یکی از این روش‌ها را توضیح دهم:\n",
            "\n",
            "**شیمی‌درمانی:**\n",
            "\n",
            "شیمی‌درمانی یک روش درمانی رایج برای سرطان است که از داروهای شیمیایی برای از بین بردن سلول‌های سرطانی استفاده می‌کند. این داروها می‌توانند به صورت خوراکی، تزریقی یا داخل وریدی تجویز شوند.\n",
            "\n",
            "شیمی‌درمانی معمولاً در یک سیکل یا دوره انجام می‌شود که شامل یک دوره درمان با دارو و سپس یک دوره استراحت است. این سیکل‌ها ممکن است چندین بار تکرار شوند. هدف از شیمی‌درمانی، هدف قرار دادن و کشتن سلول‌های سرطانی در سراسر بدن است.\n",
            "\n",
            "داروهای شیمی‌درمانی به طور انتخابی روی سلول‌هایی که رشد و تقسیم سریع دارند، مانند سلول‌های سرطانی، تأثیر می‌گذارند. با این حال، آنها همچنین می‌توانند روی سلول‌های سالم که رشد سریعی دارند، مانند سلول‌های خون، سلول‌های دهان و سلول‌های دستگاه گوارش تأثیر بگذارند، که این باعث عوارض جانبی می‌شود.\n",
            "\n",
            "عوارض جانبی رایج شیمی‌درمانی شامل ریزش مو، تهوع و استفراغ، خستگی، افزایش خطر عفونت، زخم‌های دهانی و مشکلات گوارشی است. این عوارض جانبی معمولاً موقتی هستند و پس از اتمام درمان از بین می‌روند.\n",
            "\n",
            "شیمی‌درمانی می‌تواند به عنوان یک درمان اولیه برای کاهش اندازه تومور قبل از جراحی یا پرتودرمانی استفاده شود. همچنین می‌تواند برای جلوگیری از بازگشت سرطان پس از جراحی یا به عنوان درمان کمکی استفاده شود.\n",
            "\n",
            "در انتخاب یک رژیم شیمی‌درمانی، پزشکان عوامل مختلفی را در نظر می‌گیرند، از جمله نوع و مرحله سرطان، سلامت کلی بیمار و عوارض جانبی احتمالی.\n"
          ]
        }
      ]
    },
    {
      "cell_type": "code",
      "source": [
        "chat_message_history.messages"
      ],
      "metadata": {
        "colab": {
          "base_uri": "https://localhost:8080/"
        },
        "id": "gQq5z3WaG2--",
        "outputId": "7dc2e312-260a-4482-f924-8cf611416e4a"
      },
      "execution_count": 63,
      "outputs": [
        {
          "output_type": "execute_result",
          "data": {
            "text/plain": [
              "[AIMessage(content='سلام، امیدوارم خوب باشید.', additional_kwargs={'id': '3e055ee8-1810-47b5-9725-1aa43143377e', 'finish_reason': 'COMPLETE', 'content': 'سلام، امیدوارم خوب باشید.', 'token_count': {'input_tokens': 282.0, 'output_tokens': 10.0}}, response_metadata={'id': '3e055ee8-1810-47b5-9725-1aa43143377e', 'finish_reason': 'COMPLETE', 'content': 'سلام، امیدوارم خوب باشید.', 'token_count': {'input_tokens': 282.0, 'output_tokens': 10.0}}, id='run-aa5d7c09-058a-422e-879f-afc9f1ee8ac5-0', usage_metadata={'input_tokens': 282, 'output_tokens': 10, 'total_tokens': 292}),\n",
              " HumanMessage(content='یک روش درمانی انکولوزی رو توضیح  میدی؟', additional_kwargs={}, response_metadata={}),\n",
              " AIMessage(content='انکولوژی به مطالعه و درمان سرطان می\\u200cپردازد. روش\\u200cهای درمانی مختلفی برای سرطان وجود دارد که شامل جراحی، پرتودرمانی، شیمی\\u200cدرمانی، ایمونوتراپی و هدف\\u200cدرمانی است. هر یک از این روش\\u200cها بسته به نوع و مرحله سرطان، ممکن است به تنهایی یا در ترکیب با یکدیگر استفاده شوند. اجازه دهید یکی از این روش\\u200cها را توضیح دهم:\\n\\n**شیمی\\u200cدرمانی:**\\n\\nشیمی\\u200cدرمانی یک روش درمانی رایج برای سرطان است که از داروهای شیمیایی برای از بین بردن سلول\\u200cهای سرطانی استفاده می\\u200cکند. این داروها می\\u200cتوانند به صورت خوراکی، تزریقی یا داخل وریدی تجویز شوند.\\n\\nشیمی\\u200cدرمانی معمولاً در یک سیکل یا دوره انجام می\\u200cشود که شامل یک دوره درمان با دارو و سپس یک دوره استراحت است. این سیکل\\u200cها ممکن است چندین بار تکرار شوند. هدف از شیمی\\u200cدرمانی، هدف قرار دادن و کشتن سلول\\u200cهای سرطانی در سراسر بدن است.\\n\\nداروهای شیمی\\u200cدرمانی به طور انتخابی روی سلول\\u200cهایی که رشد و تقسیم سریع دارند، مانند سلول\\u200cهای سرطانی، تأثیر می\\u200cگذارند. با این حال، آنها همچنین می\\u200cتوانند روی سلول\\u200cهای سالم که رشد سریعی دارند، مانند سلول\\u200cهای خون، سلول\\u200cهای دهان و سلول\\u200cهای دستگاه گوارش تأثیر بگذارند، که این باعث عوارض جانبی می\\u200cشود.\\n\\nعوارض جانبی رایج شیمی\\u200cدرمانی شامل ریزش مو، تهوع و استفراغ، خستگی، افزایش خطر عفونت، زخم\\u200cهای دهانی و مشکلات گوارشی است. این عوارض جانبی معمولاً موقتی هستند و پس از اتمام درمان از بین می\\u200cروند.\\n\\nشیمی\\u200cدرمانی می\\u200cتواند به عنوان یک درمان اولیه برای کاهش اندازه تومور قبل از جراحی یا پرتودرمانی استفاده شود. همچنین می\\u200cتواند برای جلوگیری از بازگشت سرطان پس از جراحی یا به عنوان درمان کمکی استفاده شود.\\n\\nدر انتخاب یک رژیم شیمی\\u200cدرمانی، پزشکان عوامل مختلفی را در نظر می\\u200cگیرند، از جمله نوع و مرحله سرطان، سلامت کلی بیمار و عوارض جانبی احتمالی.', additional_kwargs={'id': '7040f5e5-321a-4b09-9b62-36fbdd1cf387', 'finish_reason': 'COMPLETE', 'content': 'انکولوژی به مطالعه و درمان سرطان می\\u200cپردازد. روش\\u200cهای درمانی مختلفی برای سرطان وجود دارد که شامل جراحی، پرتودرمانی، شیمی\\u200cدرمانی، ایمونوتراپی و هدف\\u200cدرمانی است. هر یک از این روش\\u200cها بسته به نوع و مرحله سرطان، ممکن است به تنهایی یا در ترکیب با یکدیگر استفاده شوند. اجازه دهید یکی از این روش\\u200cها را توضیح دهم:\\n\\n**شیمی\\u200cدرمانی:**\\n\\nشیمی\\u200cدرمانی یک روش درمانی رایج برای سرطان است که از داروهای شیمیایی برای از بین بردن سلول\\u200cهای سرطانی استفاده می\\u200cکند. این داروها می\\u200cتوانند به صورت خوراکی، تزریقی یا داخل وریدی تجویز شوند.\\n\\nشیمی\\u200cدرمانی معمولاً در یک سیکل یا دوره انجام می\\u200cشود که شامل یک دوره درمان با دارو و سپس یک دوره استراحت است. این سیکل\\u200cها ممکن است چندین بار تکرار شوند. هدف از شیمی\\u200cدرمانی، هدف قرار دادن و کشتن سلول\\u200cهای سرطانی در سراسر بدن است.\\n\\nداروهای شیمی\\u200cدرمانی به طور انتخابی روی سلول\\u200cهایی که رشد و تقسیم سریع دارند، مانند سلول\\u200cهای سرطانی، تأثیر می\\u200cگذارند. با این حال، آنها همچنین می\\u200cتوانند روی سلول\\u200cهای سالم که رشد سریعی دارند، مانند سلول\\u200cهای خون، سلول\\u200cهای دهان و سلول\\u200cهای دستگاه گوارش تأثیر بگذارند، که این باعث عوارض جانبی می\\u200cشود.\\n\\nعوارض جانبی رایج شیمی\\u200cدرمانی شامل ریزش مو، تهوع و استفراغ، خستگی، افزایش خطر عفونت، زخم\\u200cهای دهانی و مشکلات گوارشی است. این عوارض جانبی معمولاً موقتی هستند و پس از اتمام درمان از بین می\\u200cروند.\\n\\nشیمی\\u200cدرمانی می\\u200cتواند به عنوان یک درمان اولیه برای کاهش اندازه تومور قبل از جراحی یا پرتودرمانی استفاده شود. همچنین می\\u200cتواند برای جلوگیری از بازگشت سرطان پس از جراحی یا به عنوان درمان کمکی استفاده شود.\\n\\nدر انتخاب یک رژیم شیمی\\u200cدرمانی، پزشکان عوامل مختلفی را در نظر می\\u200cگیرند، از جمله نوع و مرحله سرطان، سلامت کلی بیمار و عوارض جانبی احتمالی.', 'token_count': {'input_tokens': 240.0, 'output_tokens': 499.0}}, response_metadata={'id': '7040f5e5-321a-4b09-9b62-36fbdd1cf387', 'finish_reason': 'COMPLETE', 'content': 'انکولوژی به مطالعه و درمان سرطان می\\u200cپردازد. روش\\u200cهای درمانی مختلفی برای سرطان وجود دارد که شامل جراحی، پرتودرمانی، شیمی\\u200cدرمانی، ایمونوتراپی و هدف\\u200cدرمانی است. هر یک از این روش\\u200cها بسته به نوع و مرحله سرطان، ممکن است به تنهایی یا در ترکیب با یکدیگر استفاده شوند. اجازه دهید یکی از این روش\\u200cها را توضیح دهم:\\n\\n**شیمی\\u200cدرمانی:**\\n\\nشیمی\\u200cدرمانی یک روش درمانی رایج برای سرطان است که از داروهای شیمیایی برای از بین بردن سلول\\u200cهای سرطانی استفاده می\\u200cکند. این داروها می\\u200cتوانند به صورت خوراکی، تزریقی یا داخل وریدی تجویز شوند.\\n\\nشیمی\\u200cدرمانی معمولاً در یک سیکل یا دوره انجام می\\u200cشود که شامل یک دوره درمان با دارو و سپس یک دوره استراحت است. این سیکل\\u200cها ممکن است چندین بار تکرار شوند. هدف از شیمی\\u200cدرمانی، هدف قرار دادن و کشتن سلول\\u200cهای سرطانی در سراسر بدن است.\\n\\nداروهای شیمی\\u200cدرمانی به طور انتخابی روی سلول\\u200cهایی که رشد و تقسیم سریع دارند، مانند سلول\\u200cهای سرطانی، تأثیر می\\u200cگذارند. با این حال، آنها همچنین می\\u200cتوانند روی سلول\\u200cهای سالم که رشد سریعی دارند، مانند سلول\\u200cهای خون، سلول\\u200cهای دهان و سلول\\u200cهای دستگاه گوارش تأثیر بگذارند، که این باعث عوارض جانبی می\\u200cشود.\\n\\nعوارض جانبی رایج شیمی\\u200cدرمانی شامل ریزش مو، تهوع و استفراغ، خستگی، افزایش خطر عفونت، زخم\\u200cهای دهانی و مشکلات گوارشی است. این عوارض جانبی معمولاً موقتی هستند و پس از اتمام درمان از بین می\\u200cروند.\\n\\nشیمی\\u200cدرمانی می\\u200cتواند به عنوان یک درمان اولیه برای کاهش اندازه تومور قبل از جراحی یا پرتودرمانی استفاده شود. همچنین می\\u200cتواند برای جلوگیری از بازگشت سرطان پس از جراحی یا به عنوان درمان کمکی استفاده شود.\\n\\nدر انتخاب یک رژیم شیمی\\u200cدرمانی، پزشکان عوامل مختلفی را در نظر می\\u200cگیرند، از جمله نوع و مرحله سرطان، سلامت کلی بیمار و عوارض جانبی احتمالی.', 'token_count': {'input_tokens': 240.0, 'output_tokens': 499.0}}, id='run-139f9539-5e24-42ab-8f57-2de84839f88f-0', usage_metadata={'input_tokens': 240, 'output_tokens': 499, 'total_tokens': 739})]"
            ]
          },
          "metadata": {},
          "execution_count": 63
        }
      ]
    },
    {
      "cell_type": "code",
      "source": [
        "from langchain_cohere import ChatCohere\n",
        "from langchain.memory import ConversationSummaryMemory\n",
        "\n",
        "chat_model_for_history = ChatCohere(model='command-r-plus', temprature=0)\n",
        "\n",
        "memory = ConversationSummaryMemory(llm=chat_model_for_history, return_messages=True)"
      ],
      "metadata": {
        "colab": {
          "base_uri": "https://localhost:8080/"
        },
        "id": "8LkWxNJvG6ct",
        "outputId": "339c2bc8-cfaa-4274-e8e2-e7e8c5d53506"
      },
      "execution_count": 66,
      "outputs": [
        {
          "output_type": "stream",
          "name": "stderr",
          "text": [
            "<ipython-input-66-7fd5f4493fdf>:6: LangChainDeprecationWarning: Please see the migration guide at: https://python.langchain.com/docs/versions/migrating_memory/\n",
            "  memory = ConversationSummaryMemory(llm=chat_model_for_history, return_messages=True)\n"
          ]
        }
      ]
    },
    {
      "cell_type": "code",
      "source": [
        "memory.save_context(\n",
        "    {\"input\": \"Hello, I am a oncologist.\"},\n",
        "    {\"output\": \"It is great to meet you too, dr! I'm here to help in any way I can. Is there a specific task or topic you'd like to discuss, or any questions you have for me?\"}\n",
        ")"
      ],
      "metadata": {
        "id": "W5fUXjurHPAK"
      },
      "execution_count": 67,
      "outputs": []
    },
    {
      "cell_type": "code",
      "source": [
        "memory.load_memory_variables({})"
      ],
      "metadata": {
        "colab": {
          "base_uri": "https://localhost:8080/"
        },
        "id": "8ljJ0TrCHe4Z",
        "outputId": "0f69d3a5-d653-482b-c14b-135f424608a6"
      },
      "execution_count": 68,
      "outputs": [
        {
          "output_type": "execute_result",
          "data": {
            "text/plain": [
              "{'history': [SystemMessage(content='The human introduces themselves as an oncologist, and the AI expresses its pleasure in meeting them and offers its assistance.', additional_kwargs={}, response_metadata={})]}"
            ]
          },
          "metadata": {},
          "execution_count": 68
        }
      ]
    },
    {
      "cell_type": "code",
      "source": [
        "from langchain_community.chat_message_histories import ChatMessageHistory\n",
        "\n",
        "history = ChatMessageHistory()\n",
        "\n",
        "history.add_user_message(\"You know, actually I'm testing you and your Memory System.\")\n",
        "history.add_ai_message(\"That's great! I'm always learning and improving, so any tests or challenges you throw my way will help me develop and become even better at assisting you and other humans. Go ahead with your questions or tasks, and I'll do my best to showcase my memory system's capabilities!\")\n",
        "history.add_user_message(\"I live in mashhad and I am a oncologist.\")\n",
        "history.add_ai_message(\"It's wonderful to meet a fellow oncologist, dr! And it's exciting to know that you're based in mashhad. I'm all set to assist you with your inquiries and tasks, leveraging my memory system to provide accurate and insightful responses. Please go ahead with your questions or tasks, and I'll be happy to help!\")\n",
        "history.add_user_message(\"Ok, now let's play a game called 'Say It Farsi'. I say a word and you must translate it in Farsi.\")\n",
        "history.add_ai_message(\"Great! Let's play 'Say It Farsi.' I'm ready to translate any word you throw my way!\")\n",
        "history.add_user_message(\"Home\")\n",
        "history.add_ai_message(\"\\'خانه\\' is the Farsi translation for the word 'Home'.\")"
      ],
      "metadata": {
        "id": "5DOeaPPHHjvq"
      },
      "execution_count": 69,
      "outputs": []
    },
    {
      "cell_type": "code",
      "source": [
        "memory = ConversationSummaryMemory.from_messages(\n",
        "    llm = chat_model_for_history,\n",
        "    buffer = 'The human introduces themselves as dr. The AI greets Diba and expresses its readiness to help with any tasks or topics Diba may have questions about.',\n",
        "    chat_memory = history,\n",
        "    return_messages = True\n",
        ")"
      ],
      "metadata": {
        "id": "JU_80HuAIOQ9"
      },
      "execution_count": 70,
      "outputs": []
    },
    {
      "cell_type": "code",
      "source": [
        "memory.buffer"
      ],
      "metadata": {
        "colab": {
          "base_uri": "https://localhost:8080/",
          "height": 70
        },
        "id": "3Ymne6_mIU1R",
        "outputId": "33ed95ed-8086-45c6-efa4-40e6060c58a6"
      },
      "execution_count": 71,
      "outputs": [
        {
          "output_type": "execute_result",
          "data": {
            "text/plain": [
              "'Diba, an oncologist from Mashhad, introduces themselves and tests the AI\\'s memory systems. Eager to learn and improve, the AI embraces the challenges presented, especially as it relates to assisting a fellow medical professional. Diba then proposes a game called \\'Say It Farsi\\', where the AI must translate words from English to Farsi, to which the AI enthusiastically expresses readiness. Starting with the word \"Home,\" the AI provides the Farsi translation as \\'خانه\\'.'"
            ],
            "application/vnd.google.colaboratory.intrinsic+json": {
              "type": "string"
            }
          },
          "metadata": {},
          "execution_count": 71
        }
      ]
    },
    {
      "cell_type": "code",
      "source": [
        "from langchain_cohere import ChatCohere\n",
        "from langchain_core.prompts import ChatPromptTemplate\n",
        "\n",
        "chat_model = ChatCohere(model='command-r-plus', temprature=0.2)\n",
        "\n",
        "prompt = ChatPromptTemplate.from_messages(\n",
        "    [\n",
        "        (\n",
        "            \"system\", \"تو یک دستیار گفت‌وگو هستی. تمام سوالات را به بهترین شکل پاسخ بده. تاریخچه‌ی گفت‌وگو شامل خلاصه‌ای از مکالمه با کاربر تا این لحظه نیز در اختیارت قرار گرفته است.\",\n",
        "            # Or something like this in English: \"You are a helpful assistant. Answer all questions to the best of your ability. The provided chat history includes facts about the user you are speaking with.\"\n",
        "        ),\n",
        "        (\"placeholder\", \"{chat_history}\"),\n",
        "        (\"human\", \"{input}\"),\n",
        "    ]\n",
        ")\n",
        "\n",
        "chain = prompt | chat_model"
      ],
      "metadata": {
        "id": "Cnnb-wuvIbLP"
      },
      "execution_count": 72,
      "outputs": []
    },
    {
      "cell_type": "code",
      "source": [
        "from langchain_community.chat_message_histories import ChatMessageHistory\n",
        "from langchain_core.runnables.history import RunnableWithMessageHistory\n",
        "\n",
        "chat_message_history = ChatMessageHistory()\n",
        "\n",
        "with_message_history = RunnableWithMessageHistory(\n",
        "    chain,\n",
        "    lambda session_id: chat_message_history,\n",
        "    input_messages_key=\"input\",\n",
        "    history_messages_key=\"chat_history\",\n",
        ")"
      ],
      "metadata": {
        "id": "TY2lsEdIIexi"
      },
      "execution_count": 73,
      "outputs": []
    },
    {
      "cell_type": "code",
      "source": [
        "from langchain_core.runnables import RunnablePassthrough\n",
        "from langchain.memory import ConversationSummaryMemory\n",
        "\n",
        "chat_model_for_history = ChatCohere(model='command-r-plus', temprature=0)\n",
        "\n",
        "memory = ConversationSummaryMemory(llm = chat_model_for_history)\n",
        "\n",
        "def summarize_messages(chain_input):\n",
        "\n",
        "    stored_messages = chat_message_history.messages\n",
        "\n",
        "    if len(stored_messages) == 0:\n",
        "        return False\n",
        "\n",
        "    user_last_input = stored_messages[-2]\n",
        "    ai_last_output = stored_messages[-1]\n",
        "\n",
        "    memory.save_context(\n",
        "        {\"input\": user_last_input.content},\n",
        "        {\"output\": ai_last_output.content}\n",
        "    )\n",
        "\n",
        "    summary_message = memory.buffer\n",
        "\n",
        "    chat_message_history.clear()\n",
        "\n",
        "    chat_message_history.add_ai_message(summary_message)\n",
        "\n",
        "    return True\n",
        "\n",
        "chain_with_summarization = (\n",
        "    RunnablePassthrough.assign(chat_history=summarize_messages)\n",
        "    | with_message_history\n",
        ")"
      ],
      "metadata": {
        "id": "g4tTgewpIjTf"
      },
      "execution_count": 74,
      "outputs": []
    },
    {
      "cell_type": "code",
      "source": [
        "response = chain_with_summarization.invoke(\n",
        "    {\"input\": \"درود  چطوری؟ من پزشک انکولوژیست هستم.\"},\n",
        "    {\"configurable\": {\"session_id\": \"unused\"}},\n",
        ")\n",
        "print(\"AI Response:\", response.content)"
      ],
      "metadata": {
        "colab": {
          "base_uri": "https://localhost:8080/"
        },
        "id": "evWzRBCPInPT",
        "outputId": "ce4927c2-9792-4db0-ff04-c965921ef594"
      },
      "execution_count": 75,
      "outputs": [
        {
          "output_type": "stream",
          "name": "stdout",
          "text": [
            "AI Response: درود بر شما! خوشحالم که با شما صحبت می‌کنم. امیدوارم امروز روز خوبی داشته باشید.\n"
          ]
        }
      ]
    },
    {
      "cell_type": "code",
      "source": [
        "response = chain_with_summarization.invoke(\n",
        "    {\"input\": \"می‌تونی یک حقیقت عجیب درباره‌ی سرطان بهم بگی؟\"},\n",
        "    {\"configurable\": {\"session_id\": \"unused\"}},\n",
        ")\n",
        "print(\"AI Response:\", response.content)"
      ],
      "metadata": {
        "colab": {
          "base_uri": "https://localhost:8080/"
        },
        "id": "J6_MvnmyI0s0",
        "outputId": "c643adc3-6530-4f24-99ba-6efe08497908"
      },
      "execution_count": 76,
      "outputs": [
        {
          "output_type": "stream",
          "name": "stdout",
          "text": [
            "AI Response: بله، اینجا یک حقیقت جالب و عجیب در مورد سرطان وجود دارد:\n",
            "\n",
            "در اوایل دهه 1900، یک ویروس خاص به نام \"ویروس SV40\" به طور تصادفی در برخی از واکسن های فلج اطفال کشف شد. این ویروس بعدها به عنوان یک عامل سرطان زا در برخی از انواع سرطان، به ویژه تومورهای مغزی و لنفوم، شناخته شد. این کشف باعث ایجاد نگرانی های جدی در مورد ایمنی واکسن ها شد و منجر به تحقیقات گسترده ای در مورد ارتباط بین ویروس ها و سرطان شد.\n",
            "\n",
            "این واقعیت نشان می دهد که گاهی اوقات عوامل غیرمنتظره و پنهانی می توانند در توسعه سرطان نقش داشته باشند و نشان دهنده پیچیدگی این بیماری است.\n"
          ]
        }
      ]
    },
    {
      "cell_type": "code",
      "source": [
        "response = chain_with_summarization.invoke(\n",
        "    {\"input\": \"یادته من کی هستم؟\"},\n",
        "    {\"configurable\": {\"session_id\": \"unused\"}},\n",
        ")\n",
        "print(\"AI Response:\", response.content)"
      ],
      "metadata": {
        "colab": {
          "base_uri": "https://localhost:8080/"
        },
        "id": "AZ2zOr1yJAPw",
        "outputId": "affbfc8e-740c-4715-a3bd-1e6a0b42254e"
      },
      "execution_count": 77,
      "outputs": [
        {
          "output_type": "stream",
          "name": "stdout",
          "text": [
            "AI Response: بله، شما یک آنکولوژیست هستید.\n"
          ]
        }
      ]
    }
  ],
  "metadata": {
    "colab": {
      "gpuType": "T4",
      "provenance": [],
      "authorship_tag": "ABX9TyN1i+Zs6wRuibWNdkLvCsLH",
      "include_colab_link": true
    },
    "kernelspec": {
      "display_name": "Python 3",
      "name": "python3"
    },
    "language_info": {
      "name": "python"
    }
  },
  "nbformat": 4,
  "nbformat_minor": 0
}